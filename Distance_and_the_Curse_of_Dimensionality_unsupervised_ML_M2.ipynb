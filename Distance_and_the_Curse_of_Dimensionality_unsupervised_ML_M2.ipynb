{
  "nbformat": 4,
  "nbformat_minor": 0,
  "metadata": {
    "colab": {
      "provenance": [],
      "authorship_tag": "ABX9TyNuXbNTBATOrskIxuerOO+i",
      "include_colab_link": true
    },
    "kernelspec": {
      "name": "python3",
      "display_name": "Python 3"
    },
    "language_info": {
      "name": "python"
    }
  },
  "cells": [
    {
      "cell_type": "markdown",
      "metadata": {
        "id": "view-in-github",
        "colab_type": "text"
      },
      "source": [
        "<a href=\"https://colab.research.google.com/github/Mayar215999/data-science-project/blob/main/Distance_and_the_Curse_of_Dimensionality_unsupervised_ML_M2.ipynb\" target=\"_parent\"><img src=\"https://colab.research.google.com/assets/colab-badge.svg\" alt=\"Open In Colab\"/></a>"
      ]
    },
    {
      "cell_type": "code",
      "execution_count": 1,
      "metadata": {
        "id": "aZvgTYfd_VQY"
      },
      "outputs": [],
      "source": [
        "def warn(*args, **kwargs):\n",
        "    pass\n",
        "import warnings\n",
        "warnings.warn = warn\n",
        "\n",
        "import seaborn as sns, pandas as pd, numpy as np"
      ]
    },
    {
      "cell_type": "code",
      "source": [
        "from matplotlib import pyplot as plt\n",
        "import numpy as np"
      ],
      "metadata": {
        "id": "lY6cYoNsCDsR"
      },
      "execution_count": 2,
      "outputs": []
    },
    {
      "cell_type": "markdown",
      "source": [
        "Curse of Dimensionality\n",
        "DEMO objectives:\n",
        "Gain understanding of why observations are far apart in high-dimensional space\n",
        "See an example of how adding dimensions degrades model performance for classification\n",
        "Learn how to fight the curse of dimensionality in your modeling projects\n",
        "In high-dimensional space, points tend to be far apart.\n",
        "This impacts data analysis. Intuitively, clustering is difficult when points are far away from each other: If my next nearest neighbor is very far away, does it still make sense to call it my neighbor? This notebook will show why high-dimensional space leads to sparse data.\n",
        "\n",
        "\n",
        "A circle inside a square\n",
        "Let's start by drawing a unit circle inside of a square."
      ],
      "metadata": {
        "id": "vjUvKuHsCHV4"
      }
    },
    {
      "cell_type": "code",
      "source": [
        "def make_circle(point=0):\n",
        "    fig = plt.gcf()\n",
        "    ax = fig.add_subplot(111, aspect='equal')\n",
        "    fig.gca().add_artist(plt.Circle((0,0),1,alpha=.5))\n",
        "    ax.scatter(0,0,s=10,color=\"black\")\n",
        "    ax.plot(np.linspace(0,1,100),np.zeros(100),color=\"black\")\n",
        "    ax.text(.4,.1,\"r\",size=48)\n",
        "    ax.set_xlim(left=-1,right=1)\n",
        "    ax.set_ylim(bottom=-1,top=1)\n",
        "    plt.xlabel(\"Covariate A\")\n",
        "    plt.ylabel(\"Covariate B\")\n",
        "    plt.title(\"Unit Circle\")\n",
        "\n",
        "    if point:\n",
        "        ax.text(.55,.9,\"Far away\",color=\"purple\")\n",
        "        ax.scatter(.85,.85,s=10,color=\"purple\")\n",
        "    else:\n",
        "        plt.show()\n",
        "\n",
        "make_circle()"
      ],
      "metadata": {
        "colab": {
          "base_uri": "https://localhost:8080/",
          "height": 472
        },
        "id": "bYwEMPmkCIb_",
        "outputId": "13e31fff-b3f7-4ca9-a3b4-539ef72abb90"
      },
      "execution_count": 3,
      "outputs": [
        {
          "output_type": "display_data",
          "data": {
            "text/plain": [
              "<Figure size 640x480 with 1 Axes>"
            ],
            "image/png": "[encoded data removed]"
          },
          "metadata": {}
        }
      ]
    },
    {
      "cell_type": "markdown",
      "source": [
        "Each axis is a different covariate. Imagine we've standard scaled our data, so they're centered on zero. This means that the average for each covariate is now zero, or the center of our circle. Points that our outside the unit circle would be harder to classify because the values of their covariates are far from the mean.\n",
        "\n",
        "[ ]:\n",
        "\n",
        "make_circle(1)\n",
        "\n",
        "How much of the square is outside the circle? And the cube outside the sphere, etc.\n",
        "We've concluded that our purple point above would be hard to classify because it's far away from the rest of our observations. But what percentage of our points in the square are outside of the circle, and thus \"far away\"? Let's do some math!\n",
        "\n",
        "Since the square has length  2𝑟\n",
        "2\n",
        "𝑟\n",
        "  and area  (2𝑟)2\n",
        "(\n",
        "2\n",
        "𝑟\n",
        ")\n",
        "2\n",
        " , the percentage of the square outside the circle is: 1 -  𝜋𝑟2(2𝑟)2=1−𝜋4\n",
        "𝜋\n",
        "𝑟\n",
        "2\n",
        "(\n",
        "2\n",
        "𝑟\n",
        ")\n",
        "2\n",
        "=\n",
        "1\n",
        "−\n",
        "𝜋\n",
        "4\n",
        "  = ~ 21%\n",
        "\n",
        "But what about a cube? To illustrate, we will use matplotlib's 3-D axis which allows the '3d' projection, as well as the itertools library, which offers a number of efficient tools for looping and combining lists. We will use the product (cartesian product) and combinations (unique subsequences) functions."
      ],
      "metadata": {
        "id": "u1PioxrcCNkY"
      }
    },
    {
      "cell_type": "code",
      "source": [
        "from mpl_toolkits.mplot3d import Axes3D\n",
        "import matplotlib.pyplot as plt\n",
        "import numpy as np\n",
        "from itertools import product, combinations\n",
        "\n",
        "# Create figure\n",
        "fig = plt.figure(figsize=(8,8))\n",
        "ax = fig.add_subplot(111, projection='3d')\n",
        "\n",
        "# Draw cube\n",
        "r = [-1, 1]\n",
        "for s, e in combinations(np.array(list(product(r, r, r))), 2):\n",
        "    if np.sum(np.abs(s - e)) == 2:  # Ensuring only adjacent edges are connected\n",
        "        ax.plot3D([s[0], e[0]], [s[1], e[1]], [s[2], e[2]], color=\"blue\")\n",
        "\n",
        "# Draw sphere on the same axis\n",
        "u, v = np.mgrid[0:2*np.pi:20j, 0:np.pi:10j]\n",
        "x = np.cos(u) * np.sin(v)\n",
        "y = np.sin(u) * np.sin(v)\n",
        "z = np.cos(v)\n",
        "ax.plot_wireframe(x, y, z, color=\"black\")\n",
        "\n",
        "plt.show()\n"
      ],
      "metadata": {
        "colab": {
          "base_uri": "https://localhost:8080/",
          "height": 653
        },
        "id": "W4aa3MRjCyJX",
        "outputId": "1955b4fe-6b4a-4b2f-c1fd-d81dd60eb065"
      },
      "execution_count": 6,
      "outputs": [
        {
          "output_type": "display_data",
          "data": {
            "text/plain": [
              "<Figure size 800x800 with 1 Axes>"
            ],
            "image/png": "[encoded data removed]"
          },
          "metadata": {}
        }
      ]
    },
    {
      "cell_type": "markdown",
      "source": [
        "The volume of the sphere is given by the forumula:  43𝜋𝑟3\n",
        "4\n",
        "3\n",
        "𝜋\n",
        "𝑟\n",
        "3\n",
        " , and since the cube has a radius of  2𝑟\n",
        "2\n",
        "𝑟\n",
        " , it has volume  (2𝑟)3\n",
        "(\n",
        "2\n",
        "𝑟\n",
        ")\n",
        "3\n",
        " .\n",
        "\n",
        "This allows us to calculate the percent of the cube's volume that's outside of the sphere: 1-  43𝜋𝑟3(2𝑟)3=1−𝜋6\n",
        "4\n",
        "3\n",
        "𝜋\n",
        "𝑟\n",
        "3\n",
        "(\n",
        "2\n",
        "𝑟\n",
        ")\n",
        "3\n",
        "=\n",
        "1\n",
        "−\n",
        "𝜋\n",
        "6\n",
        "  = ~ 48%\n",
        "\n",
        "Can we generalize to more than three dimensions?\n",
        "Let's draw a bunch of random points from a 0-1 distribution, then measure how far away from the origin they are."
      ],
      "metadata": {
        "id": "XQmVeyBtC4Jq"
      }
    },
    {
      "cell_type": "code",
      "source": [
        "# Draw a sample of data in two dimensions\n",
        "sample_data = np.random.sample((5,2))\n",
        "print(\"Sample data:\\n\", sample_data, '\\n')\n",
        "\n",
        "def norm(x):\n",
        "    ''' Measure the distance of each point from the origin.\n",
        "\n",
        "    Input: Sample points, one point per row\n",
        "    Output: The distance from the origin to each point\n",
        "    '''\n",
        "    return np.sqrt( (x**2).sum(1) ) # np.sum() sums an array over a given axis\n",
        "\n",
        "def in_the_ball(x):\n",
        "    ''' Determine if the sample is in the circle.\n",
        "\n",
        "    Input: Sample points, one point per row\n",
        "    Output: A boolean array indicating whether the point is in the ball\n",
        "    '''\n",
        "    return norm(x) < 1 # If the distance measure above is <1, we're inside the ball\n",
        "\n",
        "\n",
        "for x, y in zip(norm(sample_data),in_the_ball(sample_data)):\n",
        "    print(\"Norm = \", x.round(2), \"; is in circle? \", y)"
      ],
      "metadata": {
        "colab": {
          "base_uri": "https://localhost:8080/"
        },
        "id": "or00aprTC5lf",
        "outputId": "3596d4e7-492b-4e8d-d965-4547dcf2dd28"
      },
      "execution_count": 7,
      "outputs": [
        {
          "output_type": "stream",
          "name": "stdout",
          "text": [
            "Sample data:\n",
            " [[0.69994546 0.71659825]\n",
            " [0.01251822 0.37891217]\n",
            " [0.81233384 0.82032779]\n",
            " [0.39270822 0.18450808]\n",
            " [0.78244707 0.64353307]] \n",
            "\n",
            "Norm =  1.0 ; is in circle?  False\n",
            "Norm =  0.38 ; is in circle?  True\n",
            "Norm =  1.15 ; is in circle?  False\n",
            "Norm =  0.43 ; is in circle?  True\n",
            "Norm =  1.01 ; is in circle?  False\n"
          ]
        }
      ]
    },
    {
      "cell_type": "code",
      "source": [
        "def what_percent_of_the_ncube_is_in_the_nball(d_dim,\n",
        "                                              sample_size=10**4):\n",
        "    shape = sample_size,d_dim\n",
        "    data = np.array([in_the_ball(np.random.sample(shape)).mean()\n",
        "                     for iteration in range(100)])\n",
        "    return data.mean()\n",
        "\n",
        "dims = range(2,15)\n",
        "data = np.array(list(map(what_percent_of_the_ncube_is_in_the_nball,dims)))\n",
        "\n",
        "\n",
        "for dim, percent in zip(dims,data):\n",
        "    print(\"Dimension = \", dim, \"; percent in ball = \", percent)"
      ],
      "metadata": {
        "colab": {
          "base_uri": "https://localhost:8080/"
        },
        "id": "4Edmbh1xDDgP",
        "outputId": "14b4fce3-794b-4be0-82a6-6a4e4bbea469"
      },
      "execution_count": 8,
      "outputs": [
        {
          "output_type": "stream",
          "name": "stdout",
          "text": [
            "Dimension =  2 ; percent in ball =  0.7855440000000001\n",
            "Dimension =  3 ; percent in ball =  0.523688\n",
            "Dimension =  4 ; percent in ball =  0.308203\n",
            "Dimension =  5 ; percent in ball =  0.16469399999999998\n",
            "Dimension =  6 ; percent in ball =  0.080625\n",
            "Dimension =  7 ; percent in ball =  0.037059\n",
            "Dimension =  8 ; percent in ball =  0.01577\n",
            "Dimension =  9 ; percent in ball =  0.006434999999999999\n",
            "Dimension =  10 ; percent in ball =  0.002532\n",
            "Dimension =  11 ; percent in ball =  0.0009209999999999998\n",
            "Dimension =  12 ; percent in ball =  0.00032\n",
            "Dimension =  13 ; percent in ball =  0.000105\n",
            "Dimension =  14 ; percent in ball =  4.3e-05\n"
          ]
        }
      ]
    },
    {
      "cell_type": "code",
      "source": [
        "# Let's plot the above percentages\n",
        "\n",
        "plt.plot(dims, data, color='blue')\n",
        "plt.xlabel(\"# dimensions\")\n",
        "plt.ylabel(\"% of area in sphere\")\n",
        "plt.title(\"What percentage of the cube is in the sphere?\")\n",
        "plt.show()"
      ],
      "metadata": {
        "colab": {
          "base_uri": "https://localhost:8080/",
          "height": 472
        },
        "id": "MzqyZGYJDHFv",
        "outputId": "7e219a1f-e4be-4cbb-cabe-936fb049f387"
      },
      "execution_count": 9,
      "outputs": [
        {
          "output_type": "display_data",
          "data": {
            "text/plain": [
              "<Figure size 640x480 with 1 Axes>"
            ],
            "image/png": "[encoded data removed]"
          },
          "metadata": {}
        }
      ]
    },
    {
      "cell_type": "markdown",
      "source": [
        "Check for understanding¶\n",
        "What happens to the percentage of the area in the sphere as we increase the number of dimensions? What does this mean about how the dispersion of our data?\n",
        "\n",
        "\n",
        "\n",
        "\n",
        "\n",
        "\n",
        "\n",
        "\n",
        "Measuring the distance from the center of the cube to the nearest point\n",
        "Let's continue with our drawing of random points in the cube. This time, we'll draw a bunch of points, then measure the distance of all the points to the center of the cube to see how close the closest point is to the center.\n",
        "\n",
        "If we find out that the closest point is far from the center in high dimensions, that gives us more evidence that increasing dimensions will make it harder to classify our data properly."
      ],
      "metadata": {
        "id": "92l_4zOFDOmw"
      }
    },
    {
      "cell_type": "code",
      "source": [
        "def get_min_distance(dimension, sample_size=10**3):\n",
        "    ''' Sample some random points and find the closet\n",
        "    of those random points to the center of the data '''\n",
        "    points = np.random.sample((sample_size,dimension))-.5   # centering our data\n",
        "    return np.min(norm(points))\n",
        "\n",
        "def estimate_closest(dimension):\n",
        "    ''' For a given dimension, take a random sample in that dimension and then find\n",
        "        that sample's closest point to the center of the data.\n",
        "        Repeat 100 times for the given dimension and return the min/max/mean\n",
        "        of the distance for the nearest point. '''\n",
        "    data = np.array([get_min_distance(dimension) for _ in range(100)])\n",
        "    return data.mean(), data.min(), data.max()\n",
        "\n",
        "# Calculate for dimensions 2-100\n",
        "dims = range(2,100)\n",
        "min_distance_data = np.array(list(map(estimate_closest,dims)))\n",
        "\n",
        "# Test it for dimension 6\n",
        "print(\"For dimension 6: \", estimate_closest(6))"
      ],
      "metadata": {
        "colab": {
          "base_uri": "https://localhost:8080/"
        },
        "id": "plV88ntSDPzn",
        "outputId": "e8bc357e-6c28-4cbb-81d2-01fc2c6096bc"
      },
      "execution_count": 10,
      "outputs": [
        {
          "output_type": "stream",
          "name": "stdout",
          "text": [
            "For dimension 6:  (0.2294830842418328, 0.12068423519883165, 0.3184694552736238)\n"
          ]
        }
      ]
    },
    {
      "cell_type": "code",
      "source": [
        "# Plot the min/max/mean of the closest point for each dimension using sampling\n",
        "\n",
        "plt.plot(dims,min_distance_data[:,0], color='blue')\n",
        "plt.fill_between(dims, min_distance_data[:,1], min_distance_data[:,2],alpha=.5)\n",
        "plt.xlabel(\"# dimensions\")\n",
        "plt.ylabel(\"Estimated min distance from origin\")\n",
        "plt.title(\"How far away from the origin is the closest point?\");"
      ],
      "metadata": {
        "colab": {
          "base_uri": "https://localhost:8080/",
          "height": 472
        },
        "id": "fXsDBleeDy5P",
        "outputId": "0263b6fe-7ba0-43e9-f302-411a45ee50e5"
      },
      "execution_count": 11,
      "outputs": [
        {
          "output_type": "display_data",
          "data": {
            "text/plain": [
              "<Figure size 640x480 with 1 Axes>"
            ],
            "image/png": "[encoded data removed]"
          },
          "metadata": {}
        }
      ]
    },
    {
      "cell_type": "markdown",
      "source": [
        "Check for understanding¶\n",
        "What would we have to do to get similar density of points as the low dimensions if we wanted to use higher dimensions of data?\n",
        "\n",
        "How to fight the curse of dimensionality\n",
        "The curse of dimensionality is a common hurdle in real-world predictive modeling. We've already seen this in our bag-of-words approach to NLP. How can we create good models in cases where our data is of high dimensionality?\n",
        "\n",
        "Feature selection: Use domain knowledge to reduce the number of features included in the model\n",
        "Feature extraction: Use dimensionality reduction techniques (e.g. PCA) to transform the raw data into a lower number of features that preserve (most of) the variability in the data\n",
        "We'll talk more about PCA next.\n",
        "\n",
        "\n",
        "\n",
        "\n",
        "\n",
        "\n",
        "\n",
        "\n",
        "How does high dimensionality affect model performance?\n",
        "We'll test model performance (classification accuracy) by creating some random data for classification, one set with a low number of features and another with a very high number of features. We'll then compare their performance using the same classification algorithm."
      ],
      "metadata": {
        "id": "OZghfdMsD7Ow"
      }
    },
    {
      "cell_type": "code",
      "source": [
        "import numpy as np\n",
        "import matplotlib.pyplot as plt\n",
        "from sklearn.model_selection import train_test_split\n",
        "from sklearn.preprocessing import StandardScaler\n",
        "from sklearn.datasets import make_classification\n",
        "from sklearn.tree import DecisionTreeClassifier"
      ],
      "metadata": {
        "id": "UsNZlfnoD1DJ"
      },
      "execution_count": 12,
      "outputs": []
    },
    {
      "cell_type": "code",
      "source": [
        "# Create a dataset with two features\n",
        "\n",
        "X, y = make_classification(n_features=2, n_redundant=0, n_informative=2,\n",
        "                           random_state=1, n_clusters_per_class=2)\n",
        "rng = np.random.RandomState(2)\n",
        "X += 2 * rng.uniform(size=X.shape)\n",
        "\n",
        "X = StandardScaler().fit_transform(X)\n",
        "X_train, X_test, y_train, y_test = train_test_split(X, y, test_size=.4, random_state=42)"
      ],
      "metadata": {
        "id": "jQWuZANcD8d3"
      },
      "execution_count": 13,
      "outputs": []
    },
    {
      "cell_type": "code",
      "source": [
        "DT =  DecisionTreeClassifier()\n",
        "DT.fit(X_train, y_train)\n",
        "score = DT.score(X_test, y_test)"
      ],
      "metadata": {
        "id": "o6DBYobOD_sD"
      },
      "execution_count": 14,
      "outputs": []
    },
    {
      "cell_type": "code",
      "source": [
        "print(\"Score from two-feature classifier: \", score)"
      ],
      "metadata": {
        "colab": {
          "base_uri": "https://localhost:8080/"
        },
        "id": "F2mtmX13ECqY",
        "outputId": "abea7575-7720-44a5-8fbc-c0955617ad58"
      },
      "execution_count": 15,
      "outputs": [
        {
          "output_type": "stream",
          "name": "stdout",
          "text": [
            "Score from two-feature classifier:  0.875\n"
          ]
        }
      ]
    },
    {
      "cell_type": "code",
      "source": [
        "# Now do the same thing but with 200 features\n",
        "\n",
        "X, y = make_classification(n_features=200, n_redundant=0, n_informative=200,\n",
        "                           random_state=1, n_clusters_per_class=2)\n",
        "rng = np.random.RandomState(2)\n",
        "X += 2 * rng.uniform(size=X.shape)\n",
        "\n",
        "X = StandardScaler().fit_transform(X)\n",
        "X_train, X_test, y_train, y_test = train_test_split(X, y, test_size=.4, random_state=42)\n",
        "\n",
        "DT =  DecisionTreeClassifier()\n",
        "DT.fit(X_train, y_train)\n",
        "score = DT.score(X_test, y_test)"
      ],
      "metadata": {
        "id": "-y0IXLmJEFgP"
      },
      "execution_count": 16,
      "outputs": []
    },
    {
      "cell_type": "code",
      "source": [
        "print(\"Score from 200-feature classifier: \", score)"
      ],
      "metadata": {
        "colab": {
          "base_uri": "https://localhost:8080/"
        },
        "id": "Elvi2hk3ELmg",
        "outputId": "c1231242-b060-4720-81d4-7182846b52da"
      },
      "execution_count": 17,
      "outputs": [
        {
          "output_type": "stream",
          "name": "stdout",
          "text": [
            "Score from 200-feature classifier:  0.475\n"
          ]
        }
      ]
    },
    {
      "cell_type": "markdown",
      "source": [
        "Here we see that adding additional features, even if informative, can lead to worse model performance (due to increased overfitting of training data.\n",
        "\n",
        "Comparing accuracy of classification against number of features\n",
        "Let's see what happens if we keep adding features to our classification problem. We'll hold the number of classes at three in order to see how the curse of dimensionality hurts our model performance."
      ],
      "metadata": {
        "id": "livT-O6hETQg"
      }
    },
    {
      "cell_type": "code",
      "source": [
        "scores = []\n",
        "\n",
        "increment, max_features = 50, 4000\n",
        "\n",
        "for num in np.linspace(increment, max_features, increment, dtype='int'):\n",
        "\n",
        "    X, y = make_classification(n_features=num, n_redundant=0,\n",
        "                               random_state=1, n_clusters_per_class=1, n_classes = 3)\n",
        "    rng = np.random.RandomState(2)\n",
        "    X += 2 * rng.uniform(size=X.shape)\n",
        "\n",
        "    X = StandardScaler().fit_transform(X)\n",
        "    X_train, X_test, y_train, y_test = train_test_split(X, y, test_size=.4, random_state=42)\n",
        "\n",
        "\n",
        "    DT =  DecisionTreeClassifier()\n",
        "    DT.fit(X_train, y_train)\n",
        "    scores.append( DT.score(X_test, y_test) )"
      ],
      "metadata": {
        "id": "MUOb0sYhENH_"
      },
      "execution_count": 18,
      "outputs": []
    },
    {
      "cell_type": "code",
      "source": [
        "plt.plot(np.linspace(increment, max_features, increment, dtype='int'),scores)\n",
        "plt.title(\"Accuracy of Classification with Increasing Features\")\n",
        "plt.xlabel(\"Number of features\")\n",
        "plt.ylabel(\"Classification accuracy\");"
      ],
      "metadata": {
        "colab": {
          "base_uri": "https://localhost:8080/",
          "height": 472
        },
        "id": "O3oQhh3EEVwX",
        "outputId": "66529e0b-2904-438e-91a1-a554b5941fb1"
      },
      "execution_count": 19,
      "outputs": [
        {
          "output_type": "display_data",
          "data": {
            "text/plain": [
              "<Figure size 640x480 with 1 Axes>"
            ],
            "image/png": "[encoded data removed]"
          },
          "metadata": {}
        }
      ]
    },
    {
      "cell_type": "markdown",
      "source": [
        "As we can see from the chart, adding features can lead to reductions in accuracy -- in this example accuracy is highly volatile in the number of features, and increasing features can reduce accuracy. Additionally, in our example, we specified that none of the features are redundnant (n_redundant=0). In practice, the situation is often worse as several of the features may be either redundant or not relevant. For example, if we are predicting customer churn using a variety of customer characteristics, we may have collected extensive data for each customer across many dimensions. This is an example of high-dimensional, which can make it difficult to apply unsupervised learning methods directly and potentially to lead to issues with the curse of dimensionality."
      ],
      "metadata": {
        "id": "aj5hQ3q3EYz4"
      }
    },
    {
      "cell_type": "markdown",
      "source": [
        "LAB 2\n",
        "Distance Metrics\n",
        "\n",
        "\n",
        "Use cases of Distance Metrics\n",
        "Classification: KNN model uses a distance metric to find a data point's top k nearest neighbors.\n",
        "Clustering: K-Means algorithm assigns data points to the nearest centroids using a distance metric.\n",
        "Natural Language Processing: NLP uses the cosine similarity distance metric to filter out irrelevant documents from the corpus once the unstructured data is transformed into vector form.\n",
        "Why different distance metrics matter?\n",
        "There are many ways to define the distance between two objects. To give you a real-life example, suppose you want to go from one city to another on a map, there will be at least two different distances. One is the driving distance and the other could be the flying distance. Depending on how you choose to travel, one of the distances could make completely no sense to you.\n",
        "\n",
        "\n",
        "Image from PxHere\n",
        "\n",
        "Same idea applies to Machine Learning, choosing the correct distance metric is critical to the performance of the downstream task.\n",
        "\n",
        "In this notebook, you will practice applying the distance metrics learned in this course. Using real-world data, you will analyze similarities and dissimilarities in data. You will also be able to understand how various algorithms such as DBSCAN are affected by different distance metrics.\n",
        "\n",
        "Table of Contents\n",
        "Objectives\n",
        "Datasets\n",
        "Setup\n",
        "Installing Required Libraries\n",
        "Importing Required Libraries\n",
        "Defining Helper Functions\n",
        "Euclidean Distance\n",
        "General Equation\n",
        "Manhattan Distance\n",
        "General Equation\n",
        "Cosine Distance\n",
        "General Equation\n",
        "Analyzing Distance Metrics with DBSCAN\n",
        "DBSCAN using Euclidean\n",
        "DBSCAN using Manhattan\n",
        "DBSCAN using Cosine\n",
        "Jaccard Distance\n",
        "General Equation\n",
        "Exercises\n",
        "\n",
        "Exercise 1 - Jaccard distance\n",
        "Exercise 2 - Euclidean distance and manhattan distance\n",
        "Exercise 3 - Cosine Distance\n",
        "Exercise 4 - Using sklearn.metrics.pairwise\n",
        "Objectives\n",
        "After completing this lab you will be able to:\n",
        "\n",
        "Understand the mathematics behind the euclidean, manhattan, cosine, and jaccard distance metrics.\n",
        "Understand the use cases of the covered distance metrics.\n",
        "Datasets\n",
        "Datasets for this lab are gathered from the UCI Machine Learning Repository under the MIT License.\n",
        "\n",
        "Setup\n",
        "For this lab, we will be using the following libraries:\n",
        "\n",
        "pandas for managing the data.\n",
        "numpy for mathematical operations.\n",
        "matplotlib for visualizing the data.\n",
        "scipy for complex numerical operations.\n",
        "sklearn for machine learning and machine-learning-pipeline related functions.\n",
        "\n",
        "Installing Required Libraries\n",
        "The following required modules are pre-installed in the Skills Network Labs environment. However if you run this notebook commands in a different Jupyter environment (e.g. Watson Studio or Ananconda) you will need to install these libraries by removing the # sign before !mamba in the code cell below."
      ],
      "metadata": {
        "id": "WrgDD4ObK1JK"
      }
    },
    {
      "cell_type": "code",
      "source": [
        "# All Libraries required for this lab are listed below. The libraries pre-installed on Skills Network Labs are commented.\n",
        "#!mamba install -qy pandas==1.3.4 numpy==1.21.4 matplotlib==3.5.0 scipy==1.7.3\n",
        "!mamba install -qy scikit-learn==1.0.2\n",
        "# Note: If your environment doesn't support \"!mamba install\", use \"!pip install pandas==1.3.4 ... \""
      ],
      "metadata": {
        "colab": {
          "base_uri": "https://localhost:8080/"
        },
        "id": "WZl9-yUWEaDQ",
        "outputId": "39c1fe6e-40c1-4de1-fd1f-7019559af9e7"
      },
      "execution_count": 20,
      "outputs": [
        {
          "output_type": "stream",
          "name": "stdout",
          "text": [
            "/bin/bash: line 1: mamba: command not found\n"
          ]
        }
      ]
    },
    {
      "cell_type": "code",
      "source": [
        "!pip install scikit-learn==1.0.2 --quiet\n"
      ],
      "metadata": {
        "colab": {
          "base_uri": "https://localhost:8080/"
        },
        "id": "Eb74EkunLN5o",
        "outputId": "bced9edc-e37a-4606-fc28-0a5bc5787f60"
      },
      "execution_count": 23,
      "outputs": [
        {
          "output_type": "stream",
          "name": "stdout",
          "text": [
            "\u001b[2K     \u001b[90m━━━━━━━━━━━━━━━━━━━━━━━━━━━━━━━━━━━━━━━━\u001b[0m \u001b[32m6.7/6.7 MB\u001b[0m \u001b[31m48.4 MB/s\u001b[0m eta \u001b[36m0:00:00\u001b[0m\n",
            "\u001b[?25h  Installing build dependencies ... \u001b[?25l\u001b[?25hdone\n",
            "  Getting requirements to build wheel ... \u001b[?25l\u001b[?25hdone\n",
            "  \u001b[1;31merror\u001b[0m: \u001b[1msubprocess-exited-with-error\u001b[0m\n",
            "  \n",
            "  \u001b[31m×\u001b[0m \u001b[32mPreparing metadata \u001b[0m\u001b[1;32m(\u001b[0m\u001b[32mpyproject.toml\u001b[0m\u001b[1;32m)\u001b[0m did not run successfully.\n",
            "  \u001b[31m│\u001b[0m exit code: \u001b[1;36m1\u001b[0m\n",
            "  \u001b[31m╰─>\u001b[0m See above for output.\n",
            "  \n",
            "  \u001b[1;35mnote\u001b[0m: This error originates from a subprocess, and is likely not a problem with pip.\n",
            "  Preparing metadata (pyproject.toml) ... \u001b[?25l\u001b[?25herror\n",
            "\u001b[1;31merror\u001b[0m: \u001b[1mmetadata-generation-failed\u001b[0m\n",
            "\n",
            "\u001b[31m×\u001b[0m Encountered error while generating package metadata.\n",
            "\u001b[31m╰─>\u001b[0m See above for output.\n",
            "\n",
            "\u001b[1;35mnote\u001b[0m: This is an issue with the package mentioned above, not pip.\n",
            "\u001b[1;36mhint\u001b[0m: See above for details.\n"
          ]
        }
      ]
    },
    {
      "cell_type": "code",
      "source": [
        "# Surpress any warnings:\n",
        "def warn(*args, **kwargs):\n",
        "    pass\n",
        "import warnings\n",
        "warnings.warn = warn\n",
        "\n",
        "import pandas as pd\n",
        "import numpy as np\n",
        "import scipy\n",
        "from scipy.spatial.distance import euclidean, cityblock, cosine\n",
        "import sklearn.metrics.pairwise\n",
        "\n",
        "# Import matplotlib for 3d plotting:\n",
        "import matplotlib.pyplot as plt\n",
        "\n",
        "# Make matplotlib work in jupyter notebook\n",
        "%matplotlib inline"
      ],
      "metadata": {
        "id": "xJ6KESlOLJoW"
      },
      "execution_count": 22,
      "outputs": []
    },
    {
      "cell_type": "code",
      "source": [
        "import sklearn\n",
        "print(sklearn.__version__)  # Should print 1.0.2\n"
      ],
      "metadata": {
        "colab": {
          "base_uri": "https://localhost:8080/"
        },
        "id": "nVlUBO_7L_vy",
        "outputId": "f797d9ad-0b71-4711-92fd-97de376fc3c7"
      },
      "execution_count": 27,
      "outputs": [
        {
          "output_type": "stream",
          "name": "stdout",
          "text": [
            "1.6.1\n"
          ]
        }
      ]
    },
    {
      "cell_type": "code",
      "source": [
        "!pip install scikit-learn==1.0.2 --force-reinstall --quiet\n"
      ],
      "metadata": {
        "colab": {
          "base_uri": "https://localhost:8080/"
        },
        "id": "XpmmTkXmMIIJ",
        "outputId": "abd6759e-81ed-4e6e-9a25-f49551f2047b"
      },
      "execution_count": 28,
      "outputs": [
        {
          "output_type": "stream",
          "name": "stdout",
          "text": [
            "  Installing build dependencies ... \u001b[?25l\u001b[?25hdone\n",
            "  Getting requirements to build wheel ... \u001b[?25l\u001b[?25hdone\n",
            "  \u001b[1;31merror\u001b[0m: \u001b[1msubprocess-exited-with-error\u001b[0m\n",
            "  \n",
            "  \u001b[31m×\u001b[0m \u001b[32mPreparing metadata \u001b[0m\u001b[1;32m(\u001b[0m\u001b[32mpyproject.toml\u001b[0m\u001b[1;32m)\u001b[0m did not run successfully.\n",
            "  \u001b[31m│\u001b[0m exit code: \u001b[1;36m1\u001b[0m\n",
            "  \u001b[31m╰─>\u001b[0m See above for output.\n",
            "  \n",
            "  \u001b[1;35mnote\u001b[0m: This error originates from a subprocess, and is likely not a problem with pip.\n",
            "  Preparing metadata (pyproject.toml) ... \u001b[?25l\u001b[?25herror\n",
            "\u001b[1;31merror\u001b[0m: \u001b[1mmetadata-generation-failed\u001b[0m\n",
            "\n",
            "\u001b[31m×\u001b[0m Encountered error while generating package metadata.\n",
            "\u001b[31m╰─>\u001b[0m See above for output.\n",
            "\n",
            "\u001b[1;35mnote\u001b[0m: This is an issue with the package mentioned above, not pip.\n",
            "\u001b[1;36mhint\u001b[0m: See above for details.\n"
          ]
        }
      ]
    },
    {
      "cell_type": "code",
      "source": [
        "import sklearn\n",
        "print(sklearn.__version__)  # Should print 1.0.2\n"
      ],
      "metadata": {
        "colab": {
          "base_uri": "https://localhost:8080/"
        },
        "id": "nEGSmG8ENt3Q",
        "outputId": "ccb7fde0-01c4-45ab-bb63-a37ca95236fd"
      },
      "execution_count": 29,
      "outputs": [
        {
          "output_type": "stream",
          "name": "stdout",
          "text": [
            "1.6.1\n"
          ]
        }
      ]
    },
    {
      "cell_type": "code",
      "source": [
        "!pip install scikit-learn==1.0.2 --force-reinstall --quiet"
      ],
      "metadata": {
        "colab": {
          "base_uri": "https://localhost:8080/"
        },
        "id": "tIFAynNWOAhy",
        "outputId": "bfdddc93-78f0-4f17-9bf8-9c466c078d3e"
      },
      "execution_count": 31,
      "outputs": [
        {
          "output_type": "stream",
          "name": "stdout",
          "text": [
            "  Installing build dependencies ... \u001b[?25l\u001b[?25hdone\n",
            "  Getting requirements to build wheel ... \u001b[?25l\u001b[?25hdone\n",
            "  \u001b[1;31merror\u001b[0m: \u001b[1msubprocess-exited-with-error\u001b[0m\n",
            "  \n",
            "  \u001b[31m×\u001b[0m \u001b[32mPreparing metadata \u001b[0m\u001b[1;32m(\u001b[0m\u001b[32mpyproject.toml\u001b[0m\u001b[1;32m)\u001b[0m did not run successfully.\n",
            "  \u001b[31m│\u001b[0m exit code: \u001b[1;36m1\u001b[0m\n",
            "  \u001b[31m╰─>\u001b[0m See above for output.\n",
            "  \n",
            "  \u001b[1;35mnote\u001b[0m: This error originates from a subprocess, and is likely not a problem with pip.\n",
            "  Preparing metadata (pyproject.toml) ... \u001b[?25l\u001b[?25herror\n",
            "\u001b[1;31merror\u001b[0m: \u001b[1mmetadata-generation-failed\u001b[0m\n",
            "\n",
            "\u001b[31m×\u001b[0m Encountered error while generating package metadata.\n",
            "\u001b[31m╰─>\u001b[0m See above for output.\n",
            "\n",
            "\u001b[1;35mnote\u001b[0m: This is an issue with the package mentioned above, not pip.\n",
            "\u001b[1;36mhint\u001b[0m: See above for details.\n"
          ]
        }
      ]
    },
    {
      "cell_type": "markdown",
      "source": [
        "Defining Helper Functions\n",
        "In the section below, we will define helper functions that will help analyze different distance metrics\n",
        "\n",
        "Average Distance\n",
        "\n",
        "This function will return the average distance between two sets of data given our provided distance metric, i.e., each point in  𝑋\n",
        "𝑋\n",
        "  with each other point in  𝑌\n",
        "𝑌\n",
        " . Refer to the image below:"
      ],
      "metadata": {
        "id": "J2H4bj-bONm_"
      }
    },
    {
      "cell_type": "markdown",
      "source": [
        "![01.03.2025_03.02.35_REC.png](data:image/png;base64,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)"
      ],
      "metadata": {
        "id": "aH1_TPpfOk8h"
      }
    },
    {
      "cell_type": "code",
      "source": [
        "# This function will allow us to find the average distance between two sets of data\n",
        "def avg_distance(X1, X2, distance_func):\n",
        "    from sklearn.metrics import jaccard_score\n",
        "    #print(distance_func)\n",
        "    res = 0\n",
        "    for x1 in X1:\n",
        "        for x2 in X2:\n",
        "            if distance_func == jaccard_score: # the jaccard_score function only returns jaccard_similarity\n",
        "                res += 1 - distance_func(x1, x2)\n",
        "            else:\n",
        "                res += distance_func(x1, x2)\n",
        "    return res / (len(X1) * len(X2))"
      ],
      "metadata": {
        "id": "qHSFUkOIOSq4"
      },
      "execution_count": 32,
      "outputs": []
    },
    {
      "cell_type": "markdown",
      "source": [
        "Pairwise Distance\n",
        "\n",
        "This function will return the average pairwise distance between two sets of data. The distance for each row in  𝑋\n",
        "𝑋\n",
        "  from the corresponding row in  𝑌\n",
        "𝑌\n",
        " . The number of rows of in the two sets of data should be equal. Refer to the image below:![01.03.2025_03.03.44_REC.png](data:image/png;base64,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)"
      ],
      "metadata": {
        "id": "SaWKTl00Onwu"
      }
    },
    {
      "cell_type": "code",
      "source": [
        "# This function will allow us to find the average pairwise distance\n",
        "def avg_pairwise_distance(X1, X2, distance_func):\n",
        "    return sum(map(distance_func, X1, X2)) / min(len(X1), len(X2))"
      ],
      "metadata": {
        "id": "YpZzg9KeOnVK"
      },
      "execution_count": 33,
      "outputs": []
    },
    {
      "cell_type": "markdown",
      "source": [
        "Load the datafile into pandas.DataFrame\n",
        "Before working with the data, it must be loaded into a pandas.DataFrame:"
      ],
      "metadata": {
        "id": "FuBcWfQeO_hJ"
      }
    },
    {
      "cell_type": "code",
      "source": [
        "df = pd.read_csv('https://cf-courses-data.s3.us.cloud-object-storage.appdomain.cloud/IBM-ML0187EN-SkillsNetwork/labs/module%202/iris.csv')\n",
        "df.head()"
      ],
      "metadata": {
        "colab": {
          "base_uri": "https://localhost:8080/",
          "height": 206
        },
        "id": "N2vvHjxkO7sZ",
        "outputId": "10965c2e-f200-4eb1-913f-0fb05a099f59"
      },
      "execution_count": 34,
      "outputs": [
        {
          "output_type": "execute_result",
          "data": {
            "text/plain": [
              "   sepal_length  sepal_width  petal_length  petal_width species\n",
              "0           5.1          3.5           1.4          0.2  setosa\n",
              "1           4.9          3.0           1.4          0.2  setosa\n",
              "2           4.7          3.2           1.3          0.2  setosa\n",
              "3           4.6          3.1           1.5          0.2  setosa\n",
              "4           5.0          3.6           1.4          0.2  setosa"
            ],
            "text/html": [
              "\n",
              "  <div id=\"df-0720c454-64b9-4c83-8db4-adf4670a5301\" class=\"colab-df-container\">\n",
              "    <div>\n",
              "<style scoped>\n",
              "    .dataframe tbody tr th:only-of-type {\n",
              "        vertical-align: middle;\n",
              "    }\n",
              "\n",
              "    .dataframe tbody tr th {\n",
              "        vertical-align: top;\n",
              "    }\n",
              "\n",
              "    .dataframe thead th {\n",
              "        text-align: right;\n",
              "    }\n",
              "</style>\n",
              "<table border=\"1\" class=\"dataframe\">\n",
              "  <thead>\n",
              "    <tr style=\"text-align: right;\">\n",
              "      <th></th>\n",
              "      <th>sepal_length</th>\n",
              "      <th>sepal_width</th>\n",
              "      <th>petal_length</th>\n",
              "      <th>petal_width</th>\n",
              "      <th>species</th>\n",
              "    </tr>\n",
              "  </thead>\n",
              "  <tbody>\n",
              "    <tr>\n",
              "      <th>0</th>\n",
              "      <td>5.1</td>\n",
              "      <td>3.5</td>\n",
              "      <td>1.4</td>\n",
              "      <td>0.2</td>\n",
              "      <td>setosa</td>\n",
              "    </tr>\n",
              "    <tr>\n",
              "      <th>1</th>\n",
              "      <td>4.9</td>\n",
              "      <td>3.0</td>\n",
              "      <td>1.4</td>\n",
              "      <td>0.2</td>\n",
              "      <td>setosa</td>\n",
              "    </tr>\n",
              "    <tr>\n",
              "      <th>2</th>\n",
              "      <td>4.7</td>\n",
              "      <td>3.2</td>\n",
              "      <td>1.3</td>\n",
              "      <td>0.2</td>\n",
              "      <td>setosa</td>\n",
              "    </tr>\n",
              "    <tr>\n",
              "      <th>3</th>\n",
              "      <td>4.6</td>\n",
              "      <td>3.1</td>\n",
              "      <td>1.5</td>\n",
              "      <td>0.2</td>\n",
              "      <td>setosa</td>\n",
              "    </tr>\n",
              "    <tr>\n",
              "      <th>4</th>\n",
              "      <td>5.0</td>\n",
              "      <td>3.6</td>\n",
              "      <td>1.4</td>\n",
              "      <td>0.2</td>\n",
              "      <td>setosa</td>\n",
              "    </tr>\n",
              "  </tbody>\n",
              "</table>\n",
              "</div>\n",
              "    <div class=\"colab-df-buttons\">\n",
              "\n",
              "  <div class=\"colab-df-container\">\n",
              "    <button class=\"colab-df-convert\" onclick=\"convertToInteractive('df-0720c454-64b9-4c83-8db4-adf4670a5301')\"\n",
              "            title=\"Convert this dataframe to an interactive table.\"\n",
              "            style=\"display:none;\">\n",
              "\n",
              "  <svg xmlns=\"http://www.w3.org/2000/svg\" height=\"24px\" viewBox=\"0 -960 960 960\">\n",
              "    <path d=\"M120-120v-720h720v720H120Zm60-500h600v-160H180v160Zm220 220h160v-160H400v160Zm0 220h160v-160H400v160ZM180-400h160v-160H180v160Zm440 0h160v-160H620v160ZM180-180h160v-160H180v160Zm440 0h160v-160H620v160Z\"/>\n",
              "  </svg>\n",
              "    </button>\n",
              "\n",
              "  <style>\n",
              "    .colab-df-container {\n",
              "      display:flex;\n",
              "      gap: 12px;\n",
              "    }\n",
              "\n",
              "    .colab-df-convert {\n",
              "      background-color: #E8F0FE;\n",
              "      border: none;\n",
              "      border-radius: 50%;\n",
              "      cursor: pointer;\n",
              "      display: none;\n",
              "      fill: #1967D2;\n",
              "      height: 32px;\n",
              "      padding: 0 0 0 0;\n",
              "      width: 32px;\n",
              "    }\n",
              "\n",
              "    .colab-df-convert:hover {\n",
              "      background-color: #E2EBFA;\n",
              "      box-shadow: 0px 1px 2px rgba(60, 64, 67, 0.3), 0px 1px 3px 1px rgba(60, 64, 67, 0.15);\n",
              "      fill: #174EA6;\n",
              "    }\n",
              "\n",
              "    .colab-df-buttons div {\n",
              "      margin-bottom: 4px;\n",
              "    }\n",
              "\n",
              "    [theme=dark] .colab-df-convert {\n",
              "      background-color: #3B4455;\n",
              "      fill: #D2E3FC;\n",
              "    }\n",
              "\n",
              "    [theme=dark] .colab-df-convert:hover {\n",
              "      background-color: #434B5C;\n",
              "      box-shadow: 0px 1px 3px 1px rgba(0, 0, 0, 0.15);\n",
              "      filter: drop-shadow(0px 1px 2px rgba(0, 0, 0, 0.3));\n",
              "      fill: #FFFFFF;\n",
              "    }\n",
              "  </style>\n",
              "\n",
              "    <script>\n",
              "      const buttonEl =\n",
              "        document.querySelector('#df-0720c454-64b9-4c83-8db4-adf4670a5301 button.colab-df-convert');\n",
              "      buttonEl.style.display =\n",
              "        google.colab.kernel.accessAllowed ? 'block' : 'none';\n",
              "\n",
              "      async function convertToInteractive(key) {\n",
              "        const element = document.querySelector('#df-0720c454-64b9-4c83-8db4-adf4670a5301');\n",
              "        const dataTable =\n",
              "          await google.colab.kernel.invokeFunction('convertToInteractive',\n",
              "                                                    [key], {});\n",
              "        if (!dataTable) return;\n",
              "\n",
              "        const docLinkHtml = 'Like what you see? Visit the ' +\n",
              "          '<a target=\"_blank\" href=https://colab.research.google.com/notebooks/data_table.ipynb>data table notebook</a>'\n",
              "          + ' to learn more about interactive tables.';\n",
              "        element.innerHTML = '';\n",
              "        dataTable['output_type'] = 'display_data';\n",
              "        await google.colab.output.renderOutput(dataTable, element);\n",
              "        const docLink = document.createElement('div');\n",
              "        docLink.innerHTML = docLinkHtml;\n",
              "        element.appendChild(docLink);\n",
              "      }\n",
              "    </script>\n",
              "  </div>\n",
              "\n",
              "\n",
              "<div id=\"df-62daf29f-b3c0-4a2d-98b9-ed70c6e618a3\">\n",
              "  <button class=\"colab-df-quickchart\" onclick=\"quickchart('df-62daf29f-b3c0-4a2d-98b9-ed70c6e618a3')\"\n",
              "            title=\"Suggest charts\"\n",
              "            style=\"display:none;\">\n",
              "\n",
              "<svg xmlns=\"http://www.w3.org/2000/svg\" height=\"24px\"viewBox=\"0 0 24 24\"\n",
              "     width=\"24px\">\n",
              "    <g>\n",
              "        <path d=\"M19 3H5c-1.1 0-2 .9-2 2v14c0 1.1.9 2 2 2h14c1.1 0 2-.9 2-2V5c0-1.1-.9-2-2-2zM9 17H7v-7h2v7zm4 0h-2V7h2v10zm4 0h-2v-4h2v4z\"/>\n",
              "    </g>\n",
              "</svg>\n",
              "  </button>\n",
              "\n",
              "<style>\n",
              "  .colab-df-quickchart {\n",
              "      --bg-color: #E8F0FE;\n",
              "      --fill-color: #1967D2;\n",
              "      --hover-bg-color: #E2EBFA;\n",
              "      --hover-fill-color: #174EA6;\n",
              "      --disabled-fill-color: #AAA;\n",
              "      --disabled-bg-color: #DDD;\n",
              "  }\n",
              "\n",
              "  [theme=dark] .colab-df-quickchart {\n",
              "      --bg-color: #3B4455;\n",
              "      --fill-color: #D2E3FC;\n",
              "      --hover-bg-color: #434B5C;\n",
              "      --hover-fill-color: #FFFFFF;\n",
              "      --disabled-bg-color: #3B4455;\n",
              "      --disabled-fill-color: #666;\n",
              "  }\n",
              "\n",
              "  .colab-df-quickchart {\n",
              "    background-color: var(--bg-color);\n",
              "    border: none;\n",
              "    border-radius: 50%;\n",
              "    cursor: pointer;\n",
              "    display: none;\n",
              "    fill: var(--fill-color);\n",
              "    height: 32px;\n",
              "    padding: 0;\n",
              "    width: 32px;\n",
              "  }\n",
              "\n",
              "  .colab-df-quickchart:hover {\n",
              "    background-color: var(--hover-bg-color);\n",
              "    box-shadow: 0 1px 2px rgba(60, 64, 67, 0.3), 0 1px 3px 1px rgba(60, 64, 67, 0.15);\n",
              "    fill: var(--button-hover-fill-color);\n",
              "  }\n",
              "\n",
              "  .colab-df-quickchart-complete:disabled,\n",
              "  .colab-df-quickchart-complete:disabled:hover {\n",
              "    background-color: var(--disabled-bg-color);\n",
              "    fill: var(--disabled-fill-color);\n",
              "    box-shadow: none;\n",
              "  }\n",
              "\n",
              "  .colab-df-spinner {\n",
              "    border: 2px solid var(--fill-color);\n",
              "    border-color: transparent;\n",
              "    border-bottom-color: var(--fill-color);\n",
              "    animation:\n",
              "      spin 1s steps(1) infinite;\n",
              "  }\n",
              "\n",
              "  @keyframes spin {\n",
              "    0% {\n",
              "      border-color: transparent;\n",
              "      border-bottom-color: var(--fill-color);\n",
              "      border-left-color: var(--fill-color);\n",
              "    }\n",
              "    20% {\n",
              "      border-color: transparent;\n",
              "      border-left-color: var(--fill-color);\n",
              "      border-top-color: var(--fill-color);\n",
              "    }\n",
              "    30% {\n",
              "      border-color: transparent;\n",
              "      border-left-color: var(--fill-color);\n",
              "      border-top-color: var(--fill-color);\n",
              "      border-right-color: var(--fill-color);\n",
              "    }\n",
              "    40% {\n",
              "      border-color: transparent;\n",
              "      border-right-color: var(--fill-color);\n",
              "      border-top-color: var(--fill-color);\n",
              "    }\n",
              "    60% {\n",
              "      border-color: transparent;\n",
              "      border-right-color: var(--fill-color);\n",
              "    }\n",
              "    80% {\n",
              "      border-color: transparent;\n",
              "      border-right-color: var(--fill-color);\n",
              "      border-bottom-color: var(--fill-color);\n",
              "    }\n",
              "    90% {\n",
              "      border-color: transparent;\n",
              "      border-bottom-color: var(--fill-color);\n",
              "    }\n",
              "  }\n",
              "</style>\n",
              "\n",
              "  <script>\n",
              "    async function quickchart(key) {\n",
              "      const quickchartButtonEl =\n",
              "        document.querySelector('#' + key + ' button');\n",
              "      quickchartButtonEl.disabled = true;  // To prevent multiple clicks.\n",
              "      quickchartButtonEl.classList.add('colab-df-spinner');\n",
              "      try {\n",
              "        const charts = await google.colab.kernel.invokeFunction(\n",
              "            'suggestCharts', [key], {});\n",
              "      } catch (error) {\n",
              "        console.error('Error during call to suggestCharts:', error);\n",
              "      }\n",
              "      quickchartButtonEl.classList.remove('colab-df-spinner');\n",
              "      quickchartButtonEl.classList.add('colab-df-quickchart-complete');\n",
              "    }\n",
              "    (() => {\n",
              "      let quickchartButtonEl =\n",
              "        document.querySelector('#df-62daf29f-b3c0-4a2d-98b9-ed70c6e618a3 button');\n",
              "      quickchartButtonEl.style.display =\n",
              "        google.colab.kernel.accessAllowed ? 'block' : 'none';\n",
              "    })();\n",
              "  </script>\n",
              "</div>\n",
              "\n",
              "    </div>\n",
              "  </div>\n"
            ],
            "application/vnd.google.colaboratory.intrinsic+json": {
              "type": "dataframe",
              "variable_name": "df",
              "summary": "{\n  \"name\": \"df\",\n  \"rows\": 150,\n  \"fields\": [\n    {\n      \"column\": \"sepal_length\",\n      \"properties\": {\n        \"dtype\": \"number\",\n        \"std\": 0.8280661279778629,\n        \"min\": 4.3,\n        \"max\": 7.9,\n        \"num_unique_values\": 35,\n        \"samples\": [\n          6.2,\n          4.5,\n          5.6\n        ],\n        \"semantic_type\": \"\",\n        \"description\": \"\"\n      }\n    },\n    {\n      \"column\": \"sepal_width\",\n      \"properties\": {\n        \"dtype\": \"number\",\n        \"std\": 0.4335943113621737,\n        \"min\": 2.0,\n        \"max\": 4.4,\n        \"num_unique_values\": 23,\n        \"samples\": [\n          2.3,\n          4.0,\n          3.5\n        ],\n        \"semantic_type\": \"\",\n        \"description\": \"\"\n      }\n    },\n    {\n      \"column\": \"petal_length\",\n      \"properties\": {\n        \"dtype\": \"number\",\n        \"std\": 1.7644204199522617,\n        \"min\": 1.0,\n        \"max\": 6.9,\n        \"num_unique_values\": 43,\n        \"samples\": [\n          6.7,\n          3.8,\n          3.7\n        ],\n        \"semantic_type\": \"\",\n        \"description\": \"\"\n      }\n    },\n    {\n      \"column\": \"petal_width\",\n      \"properties\": {\n        \"dtype\": \"number\",\n        \"std\": 0.7631607417008414,\n        \"min\": 0.1,\n        \"max\": 2.5,\n        \"num_unique_values\": 22,\n        \"samples\": [\n          0.2,\n          1.2,\n          1.3\n        ],\n        \"semantic_type\": \"\",\n        \"description\": \"\"\n      }\n    },\n    {\n      \"column\": \"species\",\n      \"properties\": {\n        \"dtype\": \"category\",\n        \"num_unique_values\": 3,\n        \"samples\": [\n          \"setosa\",\n          \"versicolor\",\n          \"virginica\"\n        ],\n        \"semantic_type\": \"\",\n        \"description\": \"\"\n      }\n    }\n  ]\n}"
            }
          },
          "metadata": {},
          "execution_count": 34
        }
      ]
    },
    {
      "cell_type": "code",
      "source": [
        "df.drop(['petal_width'], axis=1, inplace=True)\n",
        "df.head()"
      ],
      "metadata": {
        "colab": {
          "base_uri": "https://localhost:8080/",
          "height": 206
        },
        "id": "Q6eqkCLaPCv-",
        "outputId": "c827009a-2362-4ab2-abfc-a3734de1a696"
      },
      "execution_count": 35,
      "outputs": [
        {
          "output_type": "execute_result",
          "data": {
            "text/plain": [
              "   sepal_length  sepal_width  petal_length species\n",
              "0           5.1          3.5           1.4  setosa\n",
              "1           4.9          3.0           1.4  setosa\n",
              "2           4.7          3.2           1.3  setosa\n",
              "3           4.6          3.1           1.5  setosa\n",
              "4           5.0          3.6           1.4  setosa"
            ],
            "text/html": [
              "\n",
              "  <div id=\"df-fd4d5f26-da16-4c11-835c-bd1d18675b72\" class=\"colab-df-container\">\n",
              "    <div>\n",
              "<style scoped>\n",
              "    .dataframe tbody tr th:only-of-type {\n",
              "        vertical-align: middle;\n",
              "    }\n",
              "\n",
              "    .dataframe tbody tr th {\n",
              "        vertical-align: top;\n",
              "    }\n",
              "\n",
              "    .dataframe thead th {\n",
              "        text-align: right;\n",
              "    }\n",
              "</style>\n",
              "<table border=\"1\" class=\"dataframe\">\n",
              "  <thead>\n",
              "    <tr style=\"text-align: right;\">\n",
              "      <th></th>\n",
              "      <th>sepal_length</th>\n",
              "      <th>sepal_width</th>\n",
              "      <th>petal_length</th>\n",
              "      <th>species</th>\n",
              "    </tr>\n",
              "  </thead>\n",
              "  <tbody>\n",
              "    <tr>\n",
              "      <th>0</th>\n",
              "      <td>5.1</td>\n",
              "      <td>3.5</td>\n",
              "      <td>1.4</td>\n",
              "      <td>setosa</td>\n",
              "    </tr>\n",
              "    <tr>\n",
              "      <th>1</th>\n",
              "      <td>4.9</td>\n",
              "      <td>3.0</td>\n",
              "      <td>1.4</td>\n",
              "      <td>setosa</td>\n",
              "    </tr>\n",
              "    <tr>\n",
              "      <th>2</th>\n",
              "      <td>4.7</td>\n",
              "      <td>3.2</td>\n",
              "      <td>1.3</td>\n",
              "      <td>setosa</td>\n",
              "    </tr>\n",
              "    <tr>\n",
              "      <th>3</th>\n",
              "      <td>4.6</td>\n",
              "      <td>3.1</td>\n",
              "      <td>1.5</td>\n",
              "      <td>setosa</td>\n",
              "    </tr>\n",
              "    <tr>\n",
              "      <th>4</th>\n",
              "      <td>5.0</td>\n",
              "      <td>3.6</td>\n",
              "      <td>1.4</td>\n",
              "      <td>setosa</td>\n",
              "    </tr>\n",
              "  </tbody>\n",
              "</table>\n",
              "</div>\n",
              "    <div class=\"colab-df-buttons\">\n",
              "\n",
              "  <div class=\"colab-df-container\">\n",
              "    <button class=\"colab-df-convert\" onclick=\"convertToInteractive('df-fd4d5f26-da16-4c11-835c-bd1d18675b72')\"\n",
              "            title=\"Convert this dataframe to an interactive table.\"\n",
              "            style=\"display:none;\">\n",
              "\n",
              "  <svg xmlns=\"http://www.w3.org/2000/svg\" height=\"24px\" viewBox=\"0 -960 960 960\">\n",
              "    <path d=\"M120-120v-720h720v720H120Zm60-500h600v-160H180v160Zm220 220h160v-160H400v160Zm0 220h160v-160H400v160ZM180-400h160v-160H180v160Zm440 0h160v-160H620v160ZM180-180h160v-160H180v160Zm440 0h160v-160H620v160Z\"/>\n",
              "  </svg>\n",
              "    </button>\n",
              "\n",
              "  <style>\n",
              "    .colab-df-container {\n",
              "      display:flex;\n",
              "      gap: 12px;\n",
              "    }\n",
              "\n",
              "    .colab-df-convert {\n",
              "      background-color: #E8F0FE;\n",
              "      border: none;\n",
              "      border-radius: 50%;\n",
              "      cursor: pointer;\n",
              "      display: none;\n",
              "      fill: #1967D2;\n",
              "      height: 32px;\n",
              "      padding: 0 0 0 0;\n",
              "      width: 32px;\n",
              "    }\n",
              "\n",
              "    .colab-df-convert:hover {\n",
              "      background-color: #E2EBFA;\n",
              "      box-shadow: 0px 1px 2px rgba(60, 64, 67, 0.3), 0px 1px 3px 1px rgba(60, 64, 67, 0.15);\n",
              "      fill: #174EA6;\n",
              "    }\n",
              "\n",
              "    .colab-df-buttons div {\n",
              "      margin-bottom: 4px;\n",
              "    }\n",
              "\n",
              "    [theme=dark] .colab-df-convert {\n",
              "      background-color: #3B4455;\n",
              "      fill: #D2E3FC;\n",
              "    }\n",
              "\n",
              "    [theme=dark] .colab-df-convert:hover {\n",
              "      background-color: #434B5C;\n",
              "      box-shadow: 0px 1px 3px 1px rgba(0, 0, 0, 0.15);\n",
              "      filter: drop-shadow(0px 1px 2px rgba(0, 0, 0, 0.3));\n",
              "      fill: #FFFFFF;\n",
              "    }\n",
              "  </style>\n",
              "\n",
              "    <script>\n",
              "      const buttonEl =\n",
              "        document.querySelector('#df-fd4d5f26-da16-4c11-835c-bd1d18675b72 button.colab-df-convert');\n",
              "      buttonEl.style.display =\n",
              "        google.colab.kernel.accessAllowed ? 'block' : 'none';\n",
              "\n",
              "      async function convertToInteractive(key) {\n",
              "        const element = document.querySelector('#df-fd4d5f26-da16-4c11-835c-bd1d18675b72');\n",
              "        const dataTable =\n",
              "          await google.colab.kernel.invokeFunction('convertToInteractive',\n",
              "                                                    [key], {});\n",
              "        if (!dataTable) return;\n",
              "\n",
              "        const docLinkHtml = 'Like what you see? Visit the ' +\n",
              "          '<a target=\"_blank\" href=https://colab.research.google.com/notebooks/data_table.ipynb>data table notebook</a>'\n",
              "          + ' to learn more about interactive tables.';\n",
              "        element.innerHTML = '';\n",
              "        dataTable['output_type'] = 'display_data';\n",
              "        await google.colab.output.renderOutput(dataTable, element);\n",
              "        const docLink = document.createElement('div');\n",
              "        docLink.innerHTML = docLinkHtml;\n",
              "        element.appendChild(docLink);\n",
              "      }\n",
              "    </script>\n",
              "  </div>\n",
              "\n",
              "\n",
              "<div id=\"df-79d234b8-9b7d-4fc7-95fe-e616a851f88e\">\n",
              "  <button class=\"colab-df-quickchart\" onclick=\"quickchart('df-79d234b8-9b7d-4fc7-95fe-e616a851f88e')\"\n",
              "            title=\"Suggest charts\"\n",
              "            style=\"display:none;\">\n",
              "\n",
              "<svg xmlns=\"http://www.w3.org/2000/svg\" height=\"24px\"viewBox=\"0 0 24 24\"\n",
              "     width=\"24px\">\n",
              "    <g>\n",
              "        <path d=\"M19 3H5c-1.1 0-2 .9-2 2v14c0 1.1.9 2 2 2h14c1.1 0 2-.9 2-2V5c0-1.1-.9-2-2-2zM9 17H7v-7h2v7zm4 0h-2V7h2v10zm4 0h-2v-4h2v4z\"/>\n",
              "    </g>\n",
              "</svg>\n",
              "  </button>\n",
              "\n",
              "<style>\n",
              "  .colab-df-quickchart {\n",
              "      --bg-color: #E8F0FE;\n",
              "      --fill-color: #1967D2;\n",
              "      --hover-bg-color: #E2EBFA;\n",
              "      --hover-fill-color: #174EA6;\n",
              "      --disabled-fill-color: #AAA;\n",
              "      --disabled-bg-color: #DDD;\n",
              "  }\n",
              "\n",
              "  [theme=dark] .colab-df-quickchart {\n",
              "      --bg-color: #3B4455;\n",
              "      --fill-color: #D2E3FC;\n",
              "      --hover-bg-color: #434B5C;\n",
              "      --hover-fill-color: #FFFFFF;\n",
              "      --disabled-bg-color: #3B4455;\n",
              "      --disabled-fill-color: #666;\n",
              "  }\n",
              "\n",
              "  .colab-df-quickchart {\n",
              "    background-color: var(--bg-color);\n",
              "    border: none;\n",
              "    border-radius: 50%;\n",
              "    cursor: pointer;\n",
              "    display: none;\n",
              "    fill: var(--fill-color);\n",
              "    height: 32px;\n",
              "    padding: 0;\n",
              "    width: 32px;\n",
              "  }\n",
              "\n",
              "  .colab-df-quickchart:hover {\n",
              "    background-color: var(--hover-bg-color);\n",
              "    box-shadow: 0 1px 2px rgba(60, 64, 67, 0.3), 0 1px 3px 1px rgba(60, 64, 67, 0.15);\n",
              "    fill: var(--button-hover-fill-color);\n",
              "  }\n",
              "\n",
              "  .colab-df-quickchart-complete:disabled,\n",
              "  .colab-df-quickchart-complete:disabled:hover {\n",
              "    background-color: var(--disabled-bg-color);\n",
              "    fill: var(--disabled-fill-color);\n",
              "    box-shadow: none;\n",
              "  }\n",
              "\n",
              "  .colab-df-spinner {\n",
              "    border: 2px solid var(--fill-color);\n",
              "    border-color: transparent;\n",
              "    border-bottom-color: var(--fill-color);\n",
              "    animation:\n",
              "      spin 1s steps(1) infinite;\n",
              "  }\n",
              "\n",
              "  @keyframes spin {\n",
              "    0% {\n",
              "      border-color: transparent;\n",
              "      border-bottom-color: var(--fill-color);\n",
              "      border-left-color: var(--fill-color);\n",
              "    }\n",
              "    20% {\n",
              "      border-color: transparent;\n",
              "      border-left-color: var(--fill-color);\n",
              "      border-top-color: var(--fill-color);\n",
              "    }\n",
              "    30% {\n",
              "      border-color: transparent;\n",
              "      border-left-color: var(--fill-color);\n",
              "      border-top-color: var(--fill-color);\n",
              "      border-right-color: var(--fill-color);\n",
              "    }\n",
              "    40% {\n",
              "      border-color: transparent;\n",
              "      border-right-color: var(--fill-color);\n",
              "      border-top-color: var(--fill-color);\n",
              "    }\n",
              "    60% {\n",
              "      border-color: transparent;\n",
              "      border-right-color: var(--fill-color);\n",
              "    }\n",
              "    80% {\n",
              "      border-color: transparent;\n",
              "      border-right-color: var(--fill-color);\n",
              "      border-bottom-color: var(--fill-color);\n",
              "    }\n",
              "    90% {\n",
              "      border-color: transparent;\n",
              "      border-bottom-color: var(--fill-color);\n",
              "    }\n",
              "  }\n",
              "</style>\n",
              "\n",
              "  <script>\n",
              "    async function quickchart(key) {\n",
              "      const quickchartButtonEl =\n",
              "        document.querySelector('#' + key + ' button');\n",
              "      quickchartButtonEl.disabled = true;  // To prevent multiple clicks.\n",
              "      quickchartButtonEl.classList.add('colab-df-spinner');\n",
              "      try {\n",
              "        const charts = await google.colab.kernel.invokeFunction(\n",
              "            'suggestCharts', [key], {});\n",
              "      } catch (error) {\n",
              "        console.error('Error during call to suggestCharts:', error);\n",
              "      }\n",
              "      quickchartButtonEl.classList.remove('colab-df-spinner');\n",
              "      quickchartButtonEl.classList.add('colab-df-quickchart-complete');\n",
              "    }\n",
              "    (() => {\n",
              "      let quickchartButtonEl =\n",
              "        document.querySelector('#df-79d234b8-9b7d-4fc7-95fe-e616a851f88e button');\n",
              "      quickchartButtonEl.style.display =\n",
              "        google.colab.kernel.accessAllowed ? 'block' : 'none';\n",
              "    })();\n",
              "  </script>\n",
              "</div>\n",
              "\n",
              "    </div>\n",
              "  </div>\n"
            ],
            "application/vnd.google.colaboratory.intrinsic+json": {
              "type": "dataframe",
              "variable_name": "df",
              "summary": "{\n  \"name\": \"df\",\n  \"rows\": 150,\n  \"fields\": [\n    {\n      \"column\": \"sepal_length\",\n      \"properties\": {\n        \"dtype\": \"number\",\n        \"std\": 0.8280661279778629,\n        \"min\": 4.3,\n        \"max\": 7.9,\n        \"num_unique_values\": 35,\n        \"samples\": [\n          6.2,\n          4.5,\n          5.6\n        ],\n        \"semantic_type\": \"\",\n        \"description\": \"\"\n      }\n    },\n    {\n      \"column\": \"sepal_width\",\n      \"properties\": {\n        \"dtype\": \"number\",\n        \"std\": 0.4335943113621737,\n        \"min\": 2.0,\n        \"max\": 4.4,\n        \"num_unique_values\": 23,\n        \"samples\": [\n          2.3,\n          4.0,\n          3.5\n        ],\n        \"semantic_type\": \"\",\n        \"description\": \"\"\n      }\n    },\n    {\n      \"column\": \"petal_length\",\n      \"properties\": {\n        \"dtype\": \"number\",\n        \"std\": 1.7644204199522617,\n        \"min\": 1.0,\n        \"max\": 6.9,\n        \"num_unique_values\": 43,\n        \"samples\": [\n          6.7,\n          3.8,\n          3.7\n        ],\n        \"semantic_type\": \"\",\n        \"description\": \"\"\n      }\n    },\n    {\n      \"column\": \"species\",\n      \"properties\": {\n        \"dtype\": \"category\",\n        \"num_unique_values\": 3,\n        \"samples\": [\n          \"setosa\",\n          \"versicolor\",\n          \"virginica\"\n        ],\n        \"semantic_type\": \"\",\n        \"description\": \"\"\n      }\n    }\n  ]\n}"
            }
          },
          "metadata": {},
          "execution_count": 35
        }
      ]
    },
    {
      "cell_type": "code",
      "source": [
        "species = df['species'].unique()\n",
        "print(species)"
      ],
      "metadata": {
        "colab": {
          "base_uri": "https://localhost:8080/"
        },
        "id": "5qdKsTISPG_-",
        "outputId": "eecfc92c-9904-4dcc-c8ee-95acdf0a7300"
      },
      "execution_count": 36,
      "outputs": [
        {
          "output_type": "stream",
          "name": "stdout",
          "text": [
            "['setosa' 'versicolor' 'virginica']\n"
          ]
        }
      ]
    },
    {
      "cell_type": "markdown",
      "source": [
        "Let's view the three species of irises' data in 3D using matplotlib"
      ],
      "metadata": {
        "id": "d7eaGqQ2PTpM"
      }
    },
    {
      "cell_type": "code",
      "source": [
        "attrs = ['sepal_length', 'sepal_width', 'petal_length']\n",
        "markers = ['o', 'v', '^']\n",
        "fig = plt.figure()\n",
        "ax = fig.add_subplot(projection='3d')\n",
        "for specie, marker in zip(species, markers):\n",
        "    specie_data = df.loc[df['species'] == specie][attrs]\n",
        "    xs, ys, zs = [specie_data[attr] for attr in attrs]\n",
        "    ax.scatter(xs, ys, zs, marker=marker)\n",
        "plt.show()"
      ],
      "metadata": {
        "colab": {
          "base_uri": "https://localhost:8080/",
          "height": 417
        },
        "id": "XMvGlgp7PIus",
        "outputId": "73a765eb-7cab-44f1-f284-966774629eff"
      },
      "execution_count": 37,
      "outputs": [
        {
          "output_type": "display_data",
          "data": {
            "text/plain": [
              "<Figure size 640x480 with 1 Axes>"
            ],
            "image/png": "[encoded data removed]"
          },
          "metadata": {}
        }
      ]
    },
    {
      "cell_type": "markdown",
      "source": [
        "Create variables for the species' data, as np.ndarrays:"
      ],
      "metadata": {
        "id": "PUNdOUhzPXR4"
      }
    },
    {
      "cell_type": "code",
      "source": [
        "setosa_data = df.loc[df['species'] == 'setosa'][attrs].to_numpy()\n",
        "versicolor_data = df.loc[df['species'] == 'versicolor'][attrs].to_numpy()\n",
        "virginica_data = df.loc[df['species'] == 'virginica'][attrs].to_numpy()"
      ],
      "metadata": {
        "id": "HXZc5l-IPVEy"
      },
      "execution_count": 38,
      "outputs": []
    },
    {
      "cell_type": "code",
      "source": [
        "setosa_data.shape"
      ],
      "metadata": {
        "colab": {
          "base_uri": "https://localhost:8080/"
        },
        "id": "Yhka0shEPfE-",
        "outputId": "b95c614d-66db-43b2-c47f-5ab6249b77a3"
      },
      "execution_count": 39,
      "outputs": [
        {
          "output_type": "execute_result",
          "data": {
            "text/plain": [
              "(50, 3)"
            ]
          },
          "metadata": {},
          "execution_count": 39
        }
      ]
    },
    {
      "cell_type": "markdown",
      "source": [
        "In this task, you will learn and practice applying Euclidean distance.\n",
        "\n",
        "Euclidean distance is simply the physical distance between two points.\n",
        "\n",
        "Euclidean distance is useful when physical distance matters most.\n",
        "\n",
        "We know from high school math the distance between two points on a plane (2D)  (𝑥1,𝑦1),(𝑥2,𝑦2)\n",
        "(\n",
        "𝑥\n",
        "1\n",
        ",\n",
        "𝑦\n",
        "1\n",
        ")\n",
        ",\n",
        "(\n",
        "𝑥\n",
        "2\n",
        ",\n",
        "𝑦\n",
        "2\n",
        ")\n",
        "  is:\n",
        "\n",
        "(𝑥2−𝑥1)2+(𝑦2−𝑦1)2⎯⎯⎯⎯⎯⎯⎯⎯⎯⎯⎯⎯⎯⎯⎯⎯⎯⎯⎯⎯⎯⎯⎯⎯⎯⎯⎯⎯⎯⎯⎯⎯⎯⎯⎯⎯⎯√\n",
        "(\n",
        "𝑥\n",
        "2\n",
        "−\n",
        "𝑥\n",
        "1\n",
        ")\n",
        "2\n",
        "+\n",
        "(\n",
        "𝑦\n",
        "2\n",
        "−\n",
        "𝑦\n",
        "1\n",
        ")\n",
        "2\n",
        "\n",
        "\n",
        "The distance between two points in 3D  (𝑥1,𝑦1,𝑧1),(𝑥2,𝑦2,𝑧2)\n",
        "(\n",
        "𝑥\n",
        "1\n",
        ",\n",
        "𝑦\n",
        "1\n",
        ",\n",
        "𝑧\n",
        "1\n",
        ")\n",
        ",\n",
        "(\n",
        "𝑥\n",
        "2\n",
        ",\n",
        "𝑦\n",
        "2\n",
        ",\n",
        "𝑧\n",
        "2\n",
        ")\n",
        "  is:\n",
        "\n",
        "(𝑥2−𝑥1)2+(𝑦2−𝑦1)2+(𝑧2−𝑧1)2⎯⎯⎯⎯⎯⎯⎯⎯⎯⎯⎯⎯⎯⎯⎯⎯⎯⎯⎯⎯⎯⎯⎯⎯⎯⎯⎯⎯⎯⎯⎯⎯⎯⎯⎯⎯⎯⎯⎯⎯⎯⎯⎯⎯⎯⎯⎯⎯⎯⎯⎯⎯⎯⎯⎯⎯⎯√\n",
        "(\n",
        "𝑥\n",
        "2\n",
        "−\n",
        "𝑥\n",
        "1\n",
        ")\n",
        "2\n",
        "+\n",
        "(\n",
        "𝑦\n",
        "2\n",
        "−\n",
        "𝑦\n",
        "1\n",
        ")\n",
        "2\n",
        "+\n",
        "(\n",
        "𝑧\n",
        "2\n",
        "−\n",
        "𝑧\n",
        "1\n",
        ")\n",
        "2\n",
        "\n",
        "\n",
        "General Equation\n",
        "The general equation for the euclidean distance between two points in n-dimentions  𝒂=[𝑎1,𝑎2,…,𝑎𝑛],𝒃=[𝑏1,𝑏2,…,𝑏𝑛]\n",
        "𝑎\n",
        "=\n",
        "[\n",
        "𝑎\n",
        "1\n",
        ",\n",
        "𝑎\n",
        "2\n",
        ",\n",
        "…\n",
        ",\n",
        "𝑎\n",
        "𝑛\n",
        "]\n",
        ",\n",
        "𝑏\n",
        "=\n",
        "[\n",
        "𝑏\n",
        "1\n",
        ",\n",
        "𝑏\n",
        "2\n",
        ",\n",
        "…\n",
        ",\n",
        "𝑏\n",
        "𝑛\n",
        "]\n",
        "  is:\n",
        "\n",
        "∑𝑖=1𝑛(𝑏𝑖−𝑎𝑖)2⎯⎯⎯⎯⎯⎯⎯⎯⎯⎯⎯⎯⎯⎯⎯⎯⎯⎯⎯⎯\n",
        "∑\n",
        "𝑖\n",
        "=\n",
        "1\n",
        "𝑛\n",
        "(\n",
        "𝑏\n",
        "𝑖\n",
        "−\n",
        "𝑎\n",
        "𝑖\n",
        ")\n",
        "2\n",
        "\n",
        "\n",
        "Or for those inclined to Linear Algebra:\n",
        "\n",
        "||𝒃−𝒂||\n",
        "|\n",
        "|\n",
        "𝑏\n",
        "−\n",
        "𝑎\n",
        "|\n",
        "|\n",
        "\n",
        "\n",
        "We can use the function euclidean from scipy.spatial.distance to compute the euclidean distance between two points.![01.03.2025_03.08.01_REC.png](data:image/png;base64,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)"
      ],
      "metadata": {
        "id": "Pj4Hs-UZPpRH"
      }
    },
    {
      "cell_type": "code",
      "source": [
        "euclidean([0, 0], [3, 4])"
      ],
      "metadata": {
        "colab": {
          "base_uri": "https://localhost:8080/"
        },
        "id": "q2SxL8McP1wO",
        "outputId": "842f55d1-51bb-4a8d-b88c-4da96fb33937"
      },
      "execution_count": 40,
      "outputs": [
        {
          "output_type": "execute_result",
          "data": {
            "text/plain": [
              "5.0"
            ]
          },
          "metadata": {},
          "execution_count": 40
        }
      ]
    },
    {
      "cell_type": "markdown",
      "source": [
        "Let's find the average euclidean distance between the data of different species of irises\n",
        "Average euclidean distance between setosa and setosa:\n",
        "\n",
        "\n",
        "\n",
        "\n",
        "\n",
        "\n",
        "\n",
        "Average euclidean distance between setosa and versicolor:"
      ],
      "metadata": {
        "id": "3HSzNkz1P7__"
      }
    },
    {
      "cell_type": "code",
      "source": [
        "avg_distance(setosa_data, versicolor_data, euclidean)"
      ],
      "metadata": {
        "colab": {
          "base_uri": "https://localhost:8080/"
        },
        "id": "x9gB9_mYP539",
        "outputId": "ff6b2668-f129-42e8-ee7d-bf434177a150"
      },
      "execution_count": 41,
      "outputs": [
        {
          "output_type": "execute_result",
          "data": {
            "text/plain": [
              "3.1110307382429827"
            ]
          },
          "metadata": {},
          "execution_count": 41
        }
      ]
    },
    {
      "cell_type": "markdown",
      "source": [
        "Average euclidean distance between setosa and virginica:"
      ],
      "metadata": {
        "id": "K9hBB6hgQIJm"
      }
    },
    {
      "cell_type": "code",
      "source": [
        "avg_distance(setosa_data, virginica_data, euclidean)"
      ],
      "metadata": {
        "colab": {
          "base_uri": "https://localhost:8080/"
        },
        "id": "WsPhdas8QBXH",
        "outputId": "d362ccae-befb-44e5-ae8f-a8867b48608d"
      },
      "execution_count": 42,
      "outputs": [
        {
          "output_type": "execute_result",
          "data": {
            "text/plain": [
              "4.470017704302476"
            ]
          },
          "metadata": {},
          "execution_count": 42
        }
      ]
    },
    {
      "cell_type": "markdown",
      "source": [
        "We can also determine the euclidean distances between two points using paired_euclidean_distances from sklearn.metrics.pairwise:"
      ],
      "metadata": {
        "id": "mPbh_yLqQRs4"
      }
    },
    {
      "cell_type": "code",
      "source": [
        "from sklearn.metrics.pairwise import paired_euclidean_distances"
      ],
      "metadata": {
        "id": "hDG7LghrQTB9"
      },
      "execution_count": 43,
      "outputs": []
    },
    {
      "cell_type": "code",
      "source": [
        "X = np.array([[0, 0]], dtype=float)\n",
        "Y = np.array([[3, 4]], dtype=float)\n",
        "paired_euclidean_distances(X, Y).mean()"
      ],
      "metadata": {
        "colab": {
          "base_uri": "https://localhost:8080/"
        },
        "id": "ZMf7UdiZQYgb",
        "outputId": "520521a6-16b8-422d-ecac-a119d1cd4fd7"
      },
      "execution_count": 44,
      "outputs": [
        {
          "output_type": "execute_result",
          "data": {
            "text/plain": [
              "5.0"
            ]
          },
          "metadata": {},
          "execution_count": 44
        }
      ]
    },
    {
      "cell_type": "code",
      "source": [
        "avg_pairwise_distance(X, Y, euclidean)"
      ],
      "metadata": {
        "colab": {
          "base_uri": "https://localhost:8080/"
        },
        "id": "kxnlk6wjQgPI",
        "outputId": "1ba11053-233a-4eda-c357-699330cd9c6c"
      },
      "execution_count": 45,
      "outputs": [
        {
          "output_type": "execute_result",
          "data": {
            "text/plain": [
              "5.0"
            ]
          },
          "metadata": {},
          "execution_count": 45
        }
      ]
    },
    {
      "cell_type": "code",
      "source": [
        "M, N = setosa_data.shape\n",
        "print(f'{M} points and each column is {N} dimensions')"
      ],
      "metadata": {
        "colab": {
          "base_uri": "https://localhost:8080/"
        },
        "id": "YQHcsO0nQlVp",
        "outputId": "e8012d39-fb33-43d3-e7e7-5a30ab80e40b"
      },
      "execution_count": 46,
      "outputs": [
        {
          "output_type": "stream",
          "name": "stdout",
          "text": [
            "50 points and each column is 3 dimensions\n"
          ]
        }
      ]
    },
    {
      "cell_type": "code",
      "source": [
        "row_dist=paired_euclidean_distances(setosa_data, versicolor_data)\n",
        "row_dist"
      ],
      "metadata": {
        "colab": {
          "base_uri": "https://localhost:8080/"
        },
        "id": "ENMizG3nQpmo",
        "outputId": "fb508fe4-ab9b-4818-ced4-ffed3fe6fc96"
      },
      "execution_count": 47,
      "outputs": [
        {
          "output_type": "execute_result",
          "data": {
            "text/plain": [
              "array([3.81968585, 3.44963766, 4.22018957, 2.77488739, 3.62353419,\n",
              "       3.02324329, 3.71348893, 2.06155281, 3.88329757, 2.45153013,\n",
              "       2.65518361, 2.85131549, 2.97321375, 4.02616443, 2.64764046,\n",
              "       3.33166625, 3.33016516, 2.90172363, 3.26343377, 2.77488739,\n",
              "       3.14642654, 2.83901391, 4.39431451, 3.20156212, 2.92745623,\n",
              "       3.2249031 , 3.72021505, 3.84057287, 3.24037035, 2.22934968,\n",
              "       2.41246762, 2.41867732, 2.84253408, 4.02367991, 3.04302481,\n",
              "       3.45398321, 3.62767143, 3.318132  , 3.04630924, 2.68700577,\n",
              "       3.26649659, 3.73363094, 3.1       , 2.0808652 , 2.59807621,\n",
              "       2.94108823, 2.81602557, 3.32565783, 1.93132079, 2.83372546])"
            ]
          },
          "metadata": {},
          "execution_count": 47
        }
      ]
    },
    {
      "cell_type": "code",
      "source": [
        "row_dist.mean()"
      ],
      "metadata": {
        "colab": {
          "base_uri": "https://localhost:8080/"
        },
        "id": "owiPZ56PQwwh",
        "outputId": "346a7c7e-e9ed-48ec-cb2d-e8d99064b160"
      },
      "execution_count": 48,
      "outputs": [
        {
          "output_type": "execute_result",
          "data": {
            "text/plain": [
              "3.1208199582684055"
            ]
          },
          "metadata": {},
          "execution_count": 48
        }
      ]
    },
    {
      "cell_type": "code",
      "source": [
        "paired_euclidean_distances(setosa_data, virginica_data).mean()"
      ],
      "metadata": {
        "colab": {
          "base_uri": "https://localhost:8080/"
        },
        "id": "0VPHQrI2QyTn",
        "outputId": "cfdd4255-9b1d-47c0-8db0-18c7c9918ce3"
      },
      "execution_count": 49,
      "outputs": [
        {
          "output_type": "execute_result",
          "data": {
            "text/plain": [
              "4.467297089536804"
            ]
          },
          "metadata": {},
          "execution_count": 49
        }
      ]
    },
    {
      "cell_type": "code",
      "source": [
        "avg_pairwise_distance(setosa_data, virginica_data, euclidean)"
      ],
      "metadata": {
        "colab": {
          "base_uri": "https://localhost:8080/"
        },
        "id": "Vgj7Qi2UQ2zH",
        "outputId": "e9d1a62c-0a5b-44d1-fb3e-cad24db116b2"
      },
      "execution_count": 50,
      "outputs": [
        {
          "output_type": "execute_result",
          "data": {
            "text/plain": [
              "4.467297089536803"
            ]
          },
          "metadata": {},
          "execution_count": 50
        }
      ]
    },
    {
      "cell_type": "markdown",
      "source": [
        "n this task, you will learn and practice applying Manhattan distance, sometimes called the  𝐿1\n",
        "𝐿\n",
        "1\n",
        "  norm and \"cityblock\" distance. The Manhattan distance is even simpler than euclidean distance.\n",
        "\n",
        "It can be described as the sum of the absolute value of the difference in each dimention of two points.\n",
        "\n",
        "Manhattan distance can be preferrable to euclidean distance in high-dimentional situations.\n",
        "\n",
        "The Manhattan distance between two points on a plane (2D)  (𝑥1,𝑦1),(𝑥2,𝑦2)\n",
        "(\n",
        "𝑥\n",
        "1\n",
        ",\n",
        "𝑦\n",
        "1\n",
        ")\n",
        ",\n",
        "(\n",
        "𝑥\n",
        "2\n",
        ",\n",
        "𝑦\n",
        "2\n",
        ")\n",
        "  is:\n",
        "\n",
        "|𝑥2−𝑥1|+|𝑦2−𝑦1|\n",
        "|\n",
        "𝑥\n",
        "2\n",
        "−\n",
        "𝑥\n",
        "1\n",
        "|\n",
        "+\n",
        "|\n",
        "𝑦\n",
        "2\n",
        "−\n",
        "𝑦\n",
        "1\n",
        "|\n",
        "\n",
        "\n",
        "General Equation\n",
        "The general equation for the manhattan distance between two points in N-dimentions  𝒂=[𝑎1,𝑎2,…,𝑎𝑛],𝒃=[𝑏1,𝑏2,…,𝑏𝑛]\n",
        "𝑎\n",
        "=\n",
        "[\n",
        "𝑎\n",
        "1\n",
        ",\n",
        "𝑎\n",
        "2\n",
        ",\n",
        "…\n",
        ",\n",
        "𝑎\n",
        "𝑛\n",
        "]\n",
        ",\n",
        "𝑏\n",
        "=\n",
        "[\n",
        "𝑏\n",
        "1\n",
        ",\n",
        "𝑏\n",
        "2\n",
        ",\n",
        "…\n",
        ",\n",
        "𝑏\n",
        "𝑛\n",
        "]\n",
        "  is:\n",
        "\n",
        "∑𝑖=1𝑛|𝑏𝑖−𝑎𝑖|![01.03.2025_03.13.15_REC.png](data:image/png;base64,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)"
      ],
      "metadata": {
        "id": "kyd3DRP-RB3W"
      }
    },
    {
      "cell_type": "markdown",
      "source": [
        "We can use the function cityblock from scipy.spatial.distance to compute the manhattan distance between two points"
      ],
      "metadata": {
        "id": "QvATEW7ARHc-"
      }
    },
    {
      "cell_type": "code",
      "source": [
        "cityblock([1, 1], [-2, 2])"
      ],
      "metadata": {
        "colab": {
          "base_uri": "https://localhost:8080/"
        },
        "id": "FL_PLZd0RE2E",
        "outputId": "1ba0fe4d-4d4b-4986-fe1c-a7bf02b268c7"
      },
      "execution_count": 51,
      "outputs": [
        {
          "output_type": "execute_result",
          "data": {
            "text/plain": [
              "4"
            ]
          },
          "metadata": {},
          "execution_count": 51
        }
      ]
    },
    {
      "cell_type": "markdown",
      "source": [
        "Let's find the average manhattan distance between the data of different species of irises\n",
        "Average manhattan distance between setosa and setosa:"
      ],
      "metadata": {
        "id": "Pdh6LptVRNlh"
      }
    },
    {
      "cell_type": "code",
      "source": [
        "avg_distance(setosa_data, setosa_data, cityblock)"
      ],
      "metadata": {
        "colab": {
          "base_uri": "https://localhost:8080/"
        },
        "id": "e1mIp9eMRLbz",
        "outputId": "8819ee39-0245-4442-e1e1-43cee4410f0a"
      },
      "execution_count": 52,
      "outputs": [
        {
          "output_type": "execute_result",
          "data": {
            "text/plain": [
              "0.9921600000000026"
            ]
          },
          "metadata": {},
          "execution_count": 52
        }
      ]
    },
    {
      "cell_type": "code",
      "source": [
        "avg_distance(setosa_data, versicolor_data, cityblock)"
      ],
      "metadata": {
        "colab": {
          "base_uri": "https://localhost:8080/"
        },
        "id": "bCHwepWVRTZQ",
        "outputId": "6f6f6d46-0253-452d-c5a2-a1341b908080"
      },
      "execution_count": 53,
      "outputs": [
        {
          "output_type": "execute_result",
          "data": {
            "text/plain": [
              "4.439119999999999"
            ]
          },
          "metadata": {},
          "execution_count": 53
        }
      ]
    },
    {
      "cell_type": "code",
      "source": [
        "avg_distance(setosa_data, virginica_data, cityblock)"
      ],
      "metadata": {
        "colab": {
          "base_uri": "https://localhost:8080/"
        },
        "id": "elb-qeLQRVBA",
        "outputId": "e45b8840-da98-4c59-a82c-6a26ddd8db7a"
      },
      "execution_count": 54,
      "outputs": [
        {
          "output_type": "execute_result",
          "data": {
            "text/plain": [
              "6.219039999999988"
            ]
          },
          "metadata": {},
          "execution_count": 54
        }
      ]
    },
    {
      "cell_type": "markdown",
      "source": [
        "We can also determine the pairwise Manhattan Distances between two points using manhattan_distances from sklearn.metrics.pairwise:"
      ],
      "metadata": {
        "id": "PzarCwaURbPB"
      }
    },
    {
      "cell_type": "code",
      "source": [
        "from sklearn.metrics.pairwise import manhattan_distances"
      ],
      "metadata": {
        "id": "egSb2fhORccC"
      },
      "execution_count": null,
      "outputs": []
    },
    {
      "cell_type": "code",
      "source": [
        "X = np.array([[1, 1]])\n",
        "\n",
        "Y = np.array([[-2, 2]])"
      ],
      "metadata": {
        "id": "4zMyiac7RfZT"
      },
      "execution_count": 55,
      "outputs": []
    },
    {
      "cell_type": "code",
      "source": [
        "manhattan_distances(X, Y)"
      ],
      "metadata": {
        "id": "Xqzx_IMGRlBA"
      },
      "execution_count": null,
      "outputs": []
    },
    {
      "cell_type": "markdown",
      "source": [
        "In this task, you will learn and practice applying Cosine distance.\n",
        "\n",
        "The cosine distance between two points can be thought of as one minus the cosine of the angle between them with respect to the origin.\n",
        "\n",
        "As such, it has a value in the range  [0,2]\n",
        "[\n",
        "0\n",
        ",\n",
        "2\n",
        "]\n",
        "  where:\n",
        "\n",
        "0\n",
        "0\n",
        "  means \"in the same direction\"\n",
        "1\n",
        "1\n",
        "  means \"perpendicular\"\n",
        "2\n",
        "2\n",
        "  means \"in the opposite direction.\"\n",
        "So, the lower the cosine distance, the more-similar two points are (in direction).\n",
        "\n",
        "Cosine distance is useful when \"direction\" matters more than euclidean distance\n",
        "\n",
        "The cosine distance between two points on a plane (2D)  (𝑥1,𝑦1),(𝑥2,𝑦2)\n",
        "(\n",
        "𝑥\n",
        "1\n",
        ",\n",
        "𝑦\n",
        "1\n",
        ")\n",
        ",\n",
        "(\n",
        "𝑥\n",
        "2\n",
        ",\n",
        "𝑦\n",
        "2\n",
        ")\n",
        "  is:\n",
        "\n",
        "1−𝑥1⋅𝑥2+𝑦1⋅𝑦2𝑥21+𝑦21⎯⎯⎯⎯⎯⎯⎯⎯⎯⎯⎯⎯√+𝑥22+𝑦22⎯⎯⎯⎯⎯⎯⎯⎯⎯⎯⎯⎯√\n",
        "1\n",
        "−\n",
        "𝑥\n",
        "1\n",
        "⋅\n",
        "𝑥\n",
        "2\n",
        "+\n",
        "𝑦\n",
        "1\n",
        "⋅\n",
        "𝑦\n",
        "2\n",
        "𝑥\n",
        "1\n",
        "2\n",
        "+\n",
        "𝑦\n",
        "1\n",
        "2\n",
        "+\n",
        "𝑥\n",
        "2\n",
        "2\n",
        "+\n",
        "𝑦\n",
        "2\n",
        "2\n",
        "\n",
        "\n",
        "General Equation\n",
        "The general equation for the cosine distance between two points in N-dimentions  𝒂=[𝑎1,𝑎2,…,𝑎𝑛],𝒃=[𝑏1,𝑏2,…,𝑏𝑛]\n",
        "𝑎\n",
        "=\n",
        "[\n",
        "𝑎\n",
        "1\n",
        ",\n",
        "𝑎\n",
        "2\n",
        ",\n",
        "…\n",
        ",\n",
        "𝑎\n",
        "𝑛\n",
        "]\n",
        ",\n",
        "𝑏\n",
        "=\n",
        "[\n",
        "𝑏\n",
        "1\n",
        ",\n",
        "𝑏\n",
        "2\n",
        ",\n",
        "…\n",
        ",\n",
        "𝑏\n",
        "𝑛\n",
        "]\n",
        "  is:\n",
        "\n",
        "1−∑𝑛𝑖=1𝑎𝑖⋅𝑏𝑖∑𝑛𝑖=1𝑎2𝑖⎯⎯⎯⎯⎯⎯⎯⎯⎯⎯⎯⎯√+∑𝑛𝑖=1𝑏2𝑖⎯⎯⎯⎯⎯⎯⎯⎯⎯⎯⎯⎯√\n",
        "1\n",
        "−\n",
        "∑\n",
        "𝑖\n",
        "=\n",
        "1\n",
        "𝑛\n",
        "𝑎\n",
        "𝑖\n",
        "⋅\n",
        "𝑏\n",
        "𝑖\n",
        "∑\n",
        "𝑖\n",
        "=\n",
        "1\n",
        "𝑛\n",
        "𝑎\n",
        "𝑖\n",
        "2\n",
        "+\n",
        "∑\n",
        "𝑖\n",
        "=\n",
        "1\n",
        "𝑛\n",
        "𝑏\n",
        "𝑖\n",
        "2\n",
        "\n",
        "\n",
        "Or for those inclined to linear algebra:\n",
        "\n",
        "1−𝒂⋅𝒃||𝒂||⋅||𝒃||"
      ],
      "metadata": {
        "id": "xYyz0MgaR7Xm"
      }
    },
    {
      "cell_type": "markdown",
      "source": [
        "![01.03.2025_03.16.44_REC.png](data:image/png;base64,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)"
      ],
      "metadata": {
        "id": "PLvoUysgSAra"
      }
    },
    {
      "cell_type": "code",
      "source": [
        "cosine([1, 1], [-1, -1])"
      ],
      "metadata": {
        "colab": {
          "base_uri": "https://localhost:8080/"
        },
        "id": "6D3ARV0JRmM3",
        "outputId": "a4152541-f8c2-4510-8b64-45e3708fc16a"
      },
      "execution_count": 56,
      "outputs": [
        {
          "output_type": "execute_result",
          "data": {
            "text/plain": [
              "2.0"
            ]
          },
          "metadata": {},
          "execution_count": 56
        }
      ]
    },
    {
      "cell_type": "code",
      "source": [
        "df = pd.read_csv(\n",
        "    'https://cf-courses-data.s3.us.cloud-object-storage.appdomain.cloud/IBM-ML0187EN-SkillsNetwork/labs/module%202/auto-mpg.data',\n",
        "    header=None, delim_whitespace=True,\n",
        "    names=['mpg', 'cylinders', 'displacement', 'horsepower', 'weight', 'acceleration', 'model_year', 'origin', 'car_name'])\n",
        "df.head()"
      ],
      "metadata": {
        "colab": {
          "base_uri": "https://localhost:8080/",
          "height": 206
        },
        "id": "TxDemZTQSIiP",
        "outputId": "9ff3155c-8839-4af4-cdb0-51bc9998fe89"
      },
      "execution_count": 57,
      "outputs": [
        {
          "output_type": "execute_result",
          "data": {
            "text/plain": [
              "    mpg  cylinders  displacement horsepower  weight  acceleration  model_year  \\\n",
              "0  18.0          8         307.0      130.0  3504.0          12.0          70   \n",
              "1  15.0          8         350.0      165.0  3693.0          11.5          70   \n",
              "2  18.0          8         318.0      150.0  3436.0          11.0          70   \n",
              "3  16.0          8         304.0      150.0  3433.0          12.0          70   \n",
              "4  17.0          8         302.0      140.0  3449.0          10.5          70   \n",
              "\n",
              "   origin                   car_name  \n",
              "0       1  chevrolet chevelle malibu  \n",
              "1       1          buick skylark 320  \n",
              "2       1         plymouth satellite  \n",
              "3       1              amc rebel sst  \n",
              "4       1                ford torino  "
            ],
            "text/html": [
              "\n",
              "  <div id=\"df-8f8debd1-0cae-4a39-8228-862f9fbc010b\" class=\"colab-df-container\">\n",
              "    <div>\n",
              "<style scoped>\n",
              "    .dataframe tbody tr th:only-of-type {\n",
              "        vertical-align: middle;\n",
              "    }\n",
              "\n",
              "    .dataframe tbody tr th {\n",
              "        vertical-align: top;\n",
              "    }\n",
              "\n",
              "    .dataframe thead th {\n",
              "        text-align: right;\n",
              "    }\n",
              "</style>\n",
              "<table border=\"1\" class=\"dataframe\">\n",
              "  <thead>\n",
              "    <tr style=\"text-align: right;\">\n",
              "      <th></th>\n",
              "      <th>mpg</th>\n",
              "      <th>cylinders</th>\n",
              "      <th>displacement</th>\n",
              "      <th>horsepower</th>\n",
              "      <th>weight</th>\n",
              "      <th>acceleration</th>\n",
              "      <th>model_year</th>\n",
              "      <th>origin</th>\n",
              "      <th>car_name</th>\n",
              "    </tr>\n",
              "  </thead>\n",
              "  <tbody>\n",
              "    <tr>\n",
              "      <th>0</th>\n",
              "      <td>18.0</td>\n",
              "      <td>8</td>\n",
              "      <td>307.0</td>\n",
              "      <td>130.0</td>\n",
              "      <td>3504.0</td>\n",
              "      <td>12.0</td>\n",
              "      <td>70</td>\n",
              "      <td>1</td>\n",
              "      <td>chevrolet chevelle malibu</td>\n",
              "    </tr>\n",
              "    <tr>\n",
              "      <th>1</th>\n",
              "      <td>15.0</td>\n",
              "      <td>8</td>\n",
              "      <td>350.0</td>\n",
              "      <td>165.0</td>\n",
              "      <td>3693.0</td>\n",
              "      <td>11.5</td>\n",
              "      <td>70</td>\n",
              "      <td>1</td>\n",
              "      <td>buick skylark 320</td>\n",
              "    </tr>\n",
              "    <tr>\n",
              "      <th>2</th>\n",
              "      <td>18.0</td>\n",
              "      <td>8</td>\n",
              "      <td>318.0</td>\n",
              "      <td>150.0</td>\n",
              "      <td>3436.0</td>\n",
              "      <td>11.0</td>\n",
              "      <td>70</td>\n",
              "      <td>1</td>\n",
              "      <td>plymouth satellite</td>\n",
              "    </tr>\n",
              "    <tr>\n",
              "      <th>3</th>\n",
              "      <td>16.0</td>\n",
              "      <td>8</td>\n",
              "      <td>304.0</td>\n",
              "      <td>150.0</td>\n",
              "      <td>3433.0</td>\n",
              "      <td>12.0</td>\n",
              "      <td>70</td>\n",
              "      <td>1</td>\n",
              "      <td>amc rebel sst</td>\n",
              "    </tr>\n",
              "    <tr>\n",
              "      <th>4</th>\n",
              "      <td>17.0</td>\n",
              "      <td>8</td>\n",
              "      <td>302.0</td>\n",
              "      <td>140.0</td>\n",
              "      <td>3449.0</td>\n",
              "      <td>10.5</td>\n",
              "      <td>70</td>\n",
              "      <td>1</td>\n",
              "      <td>ford torino</td>\n",
              "    </tr>\n",
              "  </tbody>\n",
              "</table>\n",
              "</div>\n",
              "    <div class=\"colab-df-buttons\">\n",
              "\n",
              "  <div class=\"colab-df-container\">\n",
              "    <button class=\"colab-df-convert\" onclick=\"convertToInteractive('df-8f8debd1-0cae-4a39-8228-862f9fbc010b')\"\n",
              "            title=\"Convert this dataframe to an interactive table.\"\n",
              "            style=\"display:none;\">\n",
              "\n",
              "  <svg xmlns=\"http://www.w3.org/2000/svg\" height=\"24px\" viewBox=\"0 -960 960 960\">\n",
              "    <path d=\"M120-120v-720h720v720H120Zm60-500h600v-160H180v160Zm220 220h160v-160H400v160Zm0 220h160v-160H400v160ZM180-400h160v-160H180v160Zm440 0h160v-160H620v160ZM180-180h160v-160H180v160Zm440 0h160v-160H620v160Z\"/>\n",
              "  </svg>\n",
              "    </button>\n",
              "\n",
              "  <style>\n",
              "    .colab-df-container {\n",
              "      display:flex;\n",
              "      gap: 12px;\n",
              "    }\n",
              "\n",
              "    .colab-df-convert {\n",
              "      background-color: #E8F0FE;\n",
              "      border: none;\n",
              "      border-radius: 50%;\n",
              "      cursor: pointer;\n",
              "      display: none;\n",
              "      fill: #1967D2;\n",
              "      height: 32px;\n",
              "      padding: 0 0 0 0;\n",
              "      width: 32px;\n",
              "    }\n",
              "\n",
              "    .colab-df-convert:hover {\n",
              "      background-color: #E2EBFA;\n",
              "      box-shadow: 0px 1px 2px rgba(60, 64, 67, 0.3), 0px 1px 3px 1px rgba(60, 64, 67, 0.15);\n",
              "      fill: #174EA6;\n",
              "    }\n",
              "\n",
              "    .colab-df-buttons div {\n",
              "      margin-bottom: 4px;\n",
              "    }\n",
              "\n",
              "    [theme=dark] .colab-df-convert {\n",
              "      background-color: #3B4455;\n",
              "      fill: #D2E3FC;\n",
              "    }\n",
              "\n",
              "    [theme=dark] .colab-df-convert:hover {\n",
              "      background-color: #434B5C;\n",
              "      box-shadow: 0px 1px 3px 1px rgba(0, 0, 0, 0.15);\n",
              "      filter: drop-shadow(0px 1px 2px rgba(0, 0, 0, 0.3));\n",
              "      fill: #FFFFFF;\n",
              "    }\n",
              "  </style>\n",
              "\n",
              "    <script>\n",
              "      const buttonEl =\n",
              "        document.querySelector('#df-8f8debd1-0cae-4a39-8228-862f9fbc010b button.colab-df-convert');\n",
              "      buttonEl.style.display =\n",
              "        google.colab.kernel.accessAllowed ? 'block' : 'none';\n",
              "\n",
              "      async function convertToInteractive(key) {\n",
              "        const element = document.querySelector('#df-8f8debd1-0cae-4a39-8228-862f9fbc010b');\n",
              "        const dataTable =\n",
              "          await google.colab.kernel.invokeFunction('convertToInteractive',\n",
              "                                                    [key], {});\n",
              "        if (!dataTable) return;\n",
              "\n",
              "        const docLinkHtml = 'Like what you see? Visit the ' +\n",
              "          '<a target=\"_blank\" href=https://colab.research.google.com/notebooks/data_table.ipynb>data table notebook</a>'\n",
              "          + ' to learn more about interactive tables.';\n",
              "        element.innerHTML = '';\n",
              "        dataTable['output_type'] = 'display_data';\n",
              "        await google.colab.output.renderOutput(dataTable, element);\n",
              "        const docLink = document.createElement('div');\n",
              "        docLink.innerHTML = docLinkHtml;\n",
              "        element.appendChild(docLink);\n",
              "      }\n",
              "    </script>\n",
              "  </div>\n",
              "\n",
              "\n",
              "<div id=\"df-bf424025-653c-4aeb-bd41-bb2cffd85fba\">\n",
              "  <button class=\"colab-df-quickchart\" onclick=\"quickchart('df-bf424025-653c-4aeb-bd41-bb2cffd85fba')\"\n",
              "            title=\"Suggest charts\"\n",
              "            style=\"display:none;\">\n",
              "\n",
              "<svg xmlns=\"http://www.w3.org/2000/svg\" height=\"24px\"viewBox=\"0 0 24 24\"\n",
              "     width=\"24px\">\n",
              "    <g>\n",
              "        <path d=\"M19 3H5c-1.1 0-2 .9-2 2v14c0 1.1.9 2 2 2h14c1.1 0 2-.9 2-2V5c0-1.1-.9-2-2-2zM9 17H7v-7h2v7zm4 0h-2V7h2v10zm4 0h-2v-4h2v4z\"/>\n",
              "    </g>\n",
              "</svg>\n",
              "  </button>\n",
              "\n",
              "<style>\n",
              "  .colab-df-quickchart {\n",
              "      --bg-color: #E8F0FE;\n",
              "      --fill-color: #1967D2;\n",
              "      --hover-bg-color: #E2EBFA;\n",
              "      --hover-fill-color: #174EA6;\n",
              "      --disabled-fill-color: #AAA;\n",
              "      --disabled-bg-color: #DDD;\n",
              "  }\n",
              "\n",
              "  [theme=dark] .colab-df-quickchart {\n",
              "      --bg-color: #3B4455;\n",
              "      --fill-color: #D2E3FC;\n",
              "      --hover-bg-color: #434B5C;\n",
              "      --hover-fill-color: #FFFFFF;\n",
              "      --disabled-bg-color: #3B4455;\n",
              "      --disabled-fill-color: #666;\n",
              "  }\n",
              "\n",
              "  .colab-df-quickchart {\n",
              "    background-color: var(--bg-color);\n",
              "    border: none;\n",
              "    border-radius: 50%;\n",
              "    cursor: pointer;\n",
              "    display: none;\n",
              "    fill: var(--fill-color);\n",
              "    height: 32px;\n",
              "    padding: 0;\n",
              "    width: 32px;\n",
              "  }\n",
              "\n",
              "  .colab-df-quickchart:hover {\n",
              "    background-color: var(--hover-bg-color);\n",
              "    box-shadow: 0 1px 2px rgba(60, 64, 67, 0.3), 0 1px 3px 1px rgba(60, 64, 67, 0.15);\n",
              "    fill: var(--button-hover-fill-color);\n",
              "  }\n",
              "\n",
              "  .colab-df-quickchart-complete:disabled,\n",
              "  .colab-df-quickchart-complete:disabled:hover {\n",
              "    background-color: var(--disabled-bg-color);\n",
              "    fill: var(--disabled-fill-color);\n",
              "    box-shadow: none;\n",
              "  }\n",
              "\n",
              "  .colab-df-spinner {\n",
              "    border: 2px solid var(--fill-color);\n",
              "    border-color: transparent;\n",
              "    border-bottom-color: var(--fill-color);\n",
              "    animation:\n",
              "      spin 1s steps(1) infinite;\n",
              "  }\n",
              "\n",
              "  @keyframes spin {\n",
              "    0% {\n",
              "      border-color: transparent;\n",
              "      border-bottom-color: var(--fill-color);\n",
              "      border-left-color: var(--fill-color);\n",
              "    }\n",
              "    20% {\n",
              "      border-color: transparent;\n",
              "      border-left-color: var(--fill-color);\n",
              "      border-top-color: var(--fill-color);\n",
              "    }\n",
              "    30% {\n",
              "      border-color: transparent;\n",
              "      border-left-color: var(--fill-color);\n",
              "      border-top-color: var(--fill-color);\n",
              "      border-right-color: var(--fill-color);\n",
              "    }\n",
              "    40% {\n",
              "      border-color: transparent;\n",
              "      border-right-color: var(--fill-color);\n",
              "      border-top-color: var(--fill-color);\n",
              "    }\n",
              "    60% {\n",
              "      border-color: transparent;\n",
              "      border-right-color: var(--fill-color);\n",
              "    }\n",
              "    80% {\n",
              "      border-color: transparent;\n",
              "      border-right-color: var(--fill-color);\n",
              "      border-bottom-color: var(--fill-color);\n",
              "    }\n",
              "    90% {\n",
              "      border-color: transparent;\n",
              "      border-bottom-color: var(--fill-color);\n",
              "    }\n",
              "  }\n",
              "</style>\n",
              "\n",
              "  <script>\n",
              "    async function quickchart(key) {\n",
              "      const quickchartButtonEl =\n",
              "        document.querySelector('#' + key + ' button');\n",
              "      quickchartButtonEl.disabled = true;  // To prevent multiple clicks.\n",
              "      quickchartButtonEl.classList.add('colab-df-spinner');\n",
              "      try {\n",
              "        const charts = await google.colab.kernel.invokeFunction(\n",
              "            'suggestCharts', [key], {});\n",
              "      } catch (error) {\n",
              "        console.error('Error during call to suggestCharts:', error);\n",
              "      }\n",
              "      quickchartButtonEl.classList.remove('colab-df-spinner');\n",
              "      quickchartButtonEl.classList.add('colab-df-quickchart-complete');\n",
              "    }\n",
              "    (() => {\n",
              "      let quickchartButtonEl =\n",
              "        document.querySelector('#df-bf424025-653c-4aeb-bd41-bb2cffd85fba button');\n",
              "      quickchartButtonEl.style.display =\n",
              "        google.colab.kernel.accessAllowed ? 'block' : 'none';\n",
              "    })();\n",
              "  </script>\n",
              "</div>\n",
              "\n",
              "    </div>\n",
              "  </div>\n"
            ],
            "application/vnd.google.colaboratory.intrinsic+json": {
              "type": "dataframe",
              "variable_name": "df",
              "summary": "{\n  \"name\": \"df\",\n  \"rows\": 398,\n  \"fields\": [\n    {\n      \"column\": \"mpg\",\n      \"properties\": {\n        \"dtype\": \"number\",\n        \"std\": 7.815984312565782,\n        \"min\": 9.0,\n        \"max\": 46.6,\n        \"num_unique_values\": 129,\n        \"samples\": [\n          17.7,\n          30.5,\n          30.0\n        ],\n        \"semantic_type\": \"\",\n        \"description\": \"\"\n      }\n    },\n    {\n      \"column\": \"cylinders\",\n      \"properties\": {\n        \"dtype\": \"number\",\n        \"std\": 1,\n        \"min\": 3,\n        \"max\": 8,\n        \"num_unique_values\": 5,\n        \"samples\": [\n          4,\n          5,\n          6\n        ],\n        \"semantic_type\": \"\",\n        \"description\": \"\"\n      }\n    },\n    {\n      \"column\": \"displacement\",\n      \"properties\": {\n        \"dtype\": \"number\",\n        \"std\": 104.26983817119581,\n        \"min\": 68.0,\n        \"max\": 455.0,\n        \"num_unique_values\": 82,\n        \"samples\": [\n          122.0,\n          307.0,\n          360.0\n        ],\n        \"semantic_type\": \"\",\n        \"description\": \"\"\n      }\n    },\n    {\n      \"column\": \"horsepower\",\n      \"properties\": {\n        \"dtype\": \"category\",\n        \"num_unique_values\": 94,\n        \"samples\": [\n          \"112.0\",\n          \"?\",\n          \"78.00\"\n        ],\n        \"semantic_type\": \"\",\n        \"description\": \"\"\n      }\n    },\n    {\n      \"column\": \"weight\",\n      \"properties\": {\n        \"dtype\": \"number\",\n        \"std\": 846.8417741973271,\n        \"min\": 1613.0,\n        \"max\": 5140.0,\n        \"num_unique_values\": 351,\n        \"samples\": [\n          3730.0,\n          1995.0,\n          2215.0\n        ],\n        \"semantic_type\": \"\",\n        \"description\": \"\"\n      }\n    },\n    {\n      \"column\": \"acceleration\",\n      \"properties\": {\n        \"dtype\": \"number\",\n        \"std\": 2.7576889298126757,\n        \"min\": 8.0,\n        \"max\": 24.8,\n        \"num_unique_values\": 95,\n        \"samples\": [\n          14.7,\n          18.0,\n          14.3\n        ],\n        \"semantic_type\": \"\",\n        \"description\": \"\"\n      }\n    },\n    {\n      \"column\": \"model_year\",\n      \"properties\": {\n        \"dtype\": \"number\",\n        \"std\": 3,\n        \"min\": 70,\n        \"max\": 82,\n        \"num_unique_values\": 13,\n        \"samples\": [\n          81,\n          79,\n          70\n        ],\n        \"semantic_type\": \"\",\n        \"description\": \"\"\n      }\n    },\n    {\n      \"column\": \"origin\",\n      \"properties\": {\n        \"dtype\": \"number\",\n        \"std\": 0,\n        \"min\": 1,\n        \"max\": 3,\n        \"num_unique_values\": 3,\n        \"samples\": [\n          1,\n          3,\n          2\n        ],\n        \"semantic_type\": \"\",\n        \"description\": \"\"\n      }\n    },\n    {\n      \"column\": \"car_name\",\n      \"properties\": {\n        \"dtype\": \"string\",\n        \"num_unique_values\": 305,\n        \"samples\": [\n          \"mazda rx-4\",\n          \"ford f108\",\n          \"buick century luxus (sw)\"\n        ],\n        \"semantic_type\": \"\",\n        \"description\": \"\"\n      }\n    }\n  ]\n}"
            }
          },
          "metadata": {},
          "execution_count": 57
        }
      ]
    },
    {
      "cell_type": "code",
      "source": [
        "df['car_name'] = df['car_name'].str.split(n=1).apply(lambda lst: lst[0]).replace('chevrolet', 'chevy')\n",
        "df.rename(columns={'car_name': 'make'}, inplace=True)\n",
        "df = df[['mpg', 'weight', 'make']]\n",
        "df.head()"
      ],
      "metadata": {
        "colab": {
          "base_uri": "https://localhost:8080/",
          "height": 206
        },
        "id": "ViQE9g30SV6q",
        "outputId": "320f26d5-2193-4a0a-f9dc-6e5c41118c34"
      },
      "execution_count": 58,
      "outputs": [
        {
          "output_type": "execute_result",
          "data": {
            "text/plain": [
              "    mpg  weight      make\n",
              "0  18.0  3504.0     chevy\n",
              "1  15.0  3693.0     buick\n",
              "2  18.0  3436.0  plymouth\n",
              "3  16.0  3433.0       amc\n",
              "4  17.0  3449.0      ford"
            ],
            "text/html": [
              "\n",
              "  <div id=\"df-4a77950d-a289-49eb-8ee2-8845d42396af\" class=\"colab-df-container\">\n",
              "    <div>\n",
              "<style scoped>\n",
              "    .dataframe tbody tr th:only-of-type {\n",
              "        vertical-align: middle;\n",
              "    }\n",
              "\n",
              "    .dataframe tbody tr th {\n",
              "        vertical-align: top;\n",
              "    }\n",
              "\n",
              "    .dataframe thead th {\n",
              "        text-align: right;\n",
              "    }\n",
              "</style>\n",
              "<table border=\"1\" class=\"dataframe\">\n",
              "  <thead>\n",
              "    <tr style=\"text-align: right;\">\n",
              "      <th></th>\n",
              "      <th>mpg</th>\n",
              "      <th>weight</th>\n",
              "      <th>make</th>\n",
              "    </tr>\n",
              "  </thead>\n",
              "  <tbody>\n",
              "    <tr>\n",
              "      <th>0</th>\n",
              "      <td>18.0</td>\n",
              "      <td>3504.0</td>\n",
              "      <td>chevy</td>\n",
              "    </tr>\n",
              "    <tr>\n",
              "      <th>1</th>\n",
              "      <td>15.0</td>\n",
              "      <td>3693.0</td>\n",
              "      <td>buick</td>\n",
              "    </tr>\n",
              "    <tr>\n",
              "      <th>2</th>\n",
              "      <td>18.0</td>\n",
              "      <td>3436.0</td>\n",
              "      <td>plymouth</td>\n",
              "    </tr>\n",
              "    <tr>\n",
              "      <th>3</th>\n",
              "      <td>16.0</td>\n",
              "      <td>3433.0</td>\n",
              "      <td>amc</td>\n",
              "    </tr>\n",
              "    <tr>\n",
              "      <th>4</th>\n",
              "      <td>17.0</td>\n",
              "      <td>3449.0</td>\n",
              "      <td>ford</td>\n",
              "    </tr>\n",
              "  </tbody>\n",
              "</table>\n",
              "</div>\n",
              "    <div class=\"colab-df-buttons\">\n",
              "\n",
              "  <div class=\"colab-df-container\">\n",
              "    <button class=\"colab-df-convert\" onclick=\"convertToInteractive('df-4a77950d-a289-49eb-8ee2-8845d42396af')\"\n",
              "            title=\"Convert this dataframe to an interactive table.\"\n",
              "            style=\"display:none;\">\n",
              "\n",
              "  <svg xmlns=\"http://www.w3.org/2000/svg\" height=\"24px\" viewBox=\"0 -960 960 960\">\n",
              "    <path d=\"M120-120v-720h720v720H120Zm60-500h600v-160H180v160Zm220 220h160v-160H400v160Zm0 220h160v-160H400v160ZM180-400h160v-160H180v160Zm440 0h160v-160H620v160ZM180-180h160v-160H180v160Zm440 0h160v-160H620v160Z\"/>\n",
              "  </svg>\n",
              "    </button>\n",
              "\n",
              "  <style>\n",
              "    .colab-df-container {\n",
              "      display:flex;\n",
              "      gap: 12px;\n",
              "    }\n",
              "\n",
              "    .colab-df-convert {\n",
              "      background-color: #E8F0FE;\n",
              "      border: none;\n",
              "      border-radius: 50%;\n",
              "      cursor: pointer;\n",
              "      display: none;\n",
              "      fill: #1967D2;\n",
              "      height: 32px;\n",
              "      padding: 0 0 0 0;\n",
              "      width: 32px;\n",
              "    }\n",
              "\n",
              "    .colab-df-convert:hover {\n",
              "      background-color: #E2EBFA;\n",
              "      box-shadow: 0px 1px 2px rgba(60, 64, 67, 0.3), 0px 1px 3px 1px rgba(60, 64, 67, 0.15);\n",
              "      fill: #174EA6;\n",
              "    }\n",
              "\n",
              "    .colab-df-buttons div {\n",
              "      margin-bottom: 4px;\n",
              "    }\n",
              "\n",
              "    [theme=dark] .colab-df-convert {\n",
              "      background-color: #3B4455;\n",
              "      fill: #D2E3FC;\n",
              "    }\n",
              "\n",
              "    [theme=dark] .colab-df-convert:hover {\n",
              "      background-color: #434B5C;\n",
              "      box-shadow: 0px 1px 3px 1px rgba(0, 0, 0, 0.15);\n",
              "      filter: drop-shadow(0px 1px 2px rgba(0, 0, 0, 0.3));\n",
              "      fill: #FFFFFF;\n",
              "    }\n",
              "  </style>\n",
              "\n",
              "    <script>\n",
              "      const buttonEl =\n",
              "        document.querySelector('#df-4a77950d-a289-49eb-8ee2-8845d42396af button.colab-df-convert');\n",
              "      buttonEl.style.display =\n",
              "        google.colab.kernel.accessAllowed ? 'block' : 'none';\n",
              "\n",
              "      async function convertToInteractive(key) {\n",
              "        const element = document.querySelector('#df-4a77950d-a289-49eb-8ee2-8845d42396af');\n",
              "        const dataTable =\n",
              "          await google.colab.kernel.invokeFunction('convertToInteractive',\n",
              "                                                    [key], {});\n",
              "        if (!dataTable) return;\n",
              "\n",
              "        const docLinkHtml = 'Like what you see? Visit the ' +\n",
              "          '<a target=\"_blank\" href=https://colab.research.google.com/notebooks/data_table.ipynb>data table notebook</a>'\n",
              "          + ' to learn more about interactive tables.';\n",
              "        element.innerHTML = '';\n",
              "        dataTable['output_type'] = 'display_data';\n",
              "        await google.colab.output.renderOutput(dataTable, element);\n",
              "        const docLink = document.createElement('div');\n",
              "        docLink.innerHTML = docLinkHtml;\n",
              "        element.appendChild(docLink);\n",
              "      }\n",
              "    </script>\n",
              "  </div>\n",
              "\n",
              "\n",
              "<div id=\"df-5a44b10c-1f23-4e6e-bd37-7086fc44cf36\">\n",
              "  <button class=\"colab-df-quickchart\" onclick=\"quickchart('df-5a44b10c-1f23-4e6e-bd37-7086fc44cf36')\"\n",
              "            title=\"Suggest charts\"\n",
              "            style=\"display:none;\">\n",
              "\n",
              "<svg xmlns=\"http://www.w3.org/2000/svg\" height=\"24px\"viewBox=\"0 0 24 24\"\n",
              "     width=\"24px\">\n",
              "    <g>\n",
              "        <path d=\"M19 3H5c-1.1 0-2 .9-2 2v14c0 1.1.9 2 2 2h14c1.1 0 2-.9 2-2V5c0-1.1-.9-2-2-2zM9 17H7v-7h2v7zm4 0h-2V7h2v10zm4 0h-2v-4h2v4z\"/>\n",
              "    </g>\n",
              "</svg>\n",
              "  </button>\n",
              "\n",
              "<style>\n",
              "  .colab-df-quickchart {\n",
              "      --bg-color: #E8F0FE;\n",
              "      --fill-color: #1967D2;\n",
              "      --hover-bg-color: #E2EBFA;\n",
              "      --hover-fill-color: #174EA6;\n",
              "      --disabled-fill-color: #AAA;\n",
              "      --disabled-bg-color: #DDD;\n",
              "  }\n",
              "\n",
              "  [theme=dark] .colab-df-quickchart {\n",
              "      --bg-color: #3B4455;\n",
              "      --fill-color: #D2E3FC;\n",
              "      --hover-bg-color: #434B5C;\n",
              "      --hover-fill-color: #FFFFFF;\n",
              "      --disabled-bg-color: #3B4455;\n",
              "      --disabled-fill-color: #666;\n",
              "  }\n",
              "\n",
              "  .colab-df-quickchart {\n",
              "    background-color: var(--bg-color);\n",
              "    border: none;\n",
              "    border-radius: 50%;\n",
              "    cursor: pointer;\n",
              "    display: none;\n",
              "    fill: var(--fill-color);\n",
              "    height: 32px;\n",
              "    padding: 0;\n",
              "    width: 32px;\n",
              "  }\n",
              "\n",
              "  .colab-df-quickchart:hover {\n",
              "    background-color: var(--hover-bg-color);\n",
              "    box-shadow: 0 1px 2px rgba(60, 64, 67, 0.3), 0 1px 3px 1px rgba(60, 64, 67, 0.15);\n",
              "    fill: var(--button-hover-fill-color);\n",
              "  }\n",
              "\n",
              "  .colab-df-quickchart-complete:disabled,\n",
              "  .colab-df-quickchart-complete:disabled:hover {\n",
              "    background-color: var(--disabled-bg-color);\n",
              "    fill: var(--disabled-fill-color);\n",
              "    box-shadow: none;\n",
              "  }\n",
              "\n",
              "  .colab-df-spinner {\n",
              "    border: 2px solid var(--fill-color);\n",
              "    border-color: transparent;\n",
              "    border-bottom-color: var(--fill-color);\n",
              "    animation:\n",
              "      spin 1s steps(1) infinite;\n",
              "  }\n",
              "\n",
              "  @keyframes spin {\n",
              "    0% {\n",
              "      border-color: transparent;\n",
              "      border-bottom-color: var(--fill-color);\n",
              "      border-left-color: var(--fill-color);\n",
              "    }\n",
              "    20% {\n",
              "      border-color: transparent;\n",
              "      border-left-color: var(--fill-color);\n",
              "      border-top-color: var(--fill-color);\n",
              "    }\n",
              "    30% {\n",
              "      border-color: transparent;\n",
              "      border-left-color: var(--fill-color);\n",
              "      border-top-color: var(--fill-color);\n",
              "      border-right-color: var(--fill-color);\n",
              "    }\n",
              "    40% {\n",
              "      border-color: transparent;\n",
              "      border-right-color: var(--fill-color);\n",
              "      border-top-color: var(--fill-color);\n",
              "    }\n",
              "    60% {\n",
              "      border-color: transparent;\n",
              "      border-right-color: var(--fill-color);\n",
              "    }\n",
              "    80% {\n",
              "      border-color: transparent;\n",
              "      border-right-color: var(--fill-color);\n",
              "      border-bottom-color: var(--fill-color);\n",
              "    }\n",
              "    90% {\n",
              "      border-color: transparent;\n",
              "      border-bottom-color: var(--fill-color);\n",
              "    }\n",
              "  }\n",
              "</style>\n",
              "\n",
              "  <script>\n",
              "    async function quickchart(key) {\n",
              "      const quickchartButtonEl =\n",
              "        document.querySelector('#' + key + ' button');\n",
              "      quickchartButtonEl.disabled = true;  // To prevent multiple clicks.\n",
              "      quickchartButtonEl.classList.add('colab-df-spinner');\n",
              "      try {\n",
              "        const charts = await google.colab.kernel.invokeFunction(\n",
              "            'suggestCharts', [key], {});\n",
              "      } catch (error) {\n",
              "        console.error('Error during call to suggestCharts:', error);\n",
              "      }\n",
              "      quickchartButtonEl.classList.remove('colab-df-spinner');\n",
              "      quickchartButtonEl.classList.add('colab-df-quickchart-complete');\n",
              "    }\n",
              "    (() => {\n",
              "      let quickchartButtonEl =\n",
              "        document.querySelector('#df-5a44b10c-1f23-4e6e-bd37-7086fc44cf36 button');\n",
              "      quickchartButtonEl.style.display =\n",
              "        google.colab.kernel.accessAllowed ? 'block' : 'none';\n",
              "    })();\n",
              "  </script>\n",
              "</div>\n",
              "\n",
              "    </div>\n",
              "  </div>\n"
            ],
            "application/vnd.google.colaboratory.intrinsic+json": {
              "type": "dataframe",
              "variable_name": "df",
              "summary": "{\n  \"name\": \"df\",\n  \"rows\": 398,\n  \"fields\": [\n    {\n      \"column\": \"mpg\",\n      \"properties\": {\n        \"dtype\": \"number\",\n        \"std\": 7.815984312565782,\n        \"min\": 9.0,\n        \"max\": 46.6,\n        \"num_unique_values\": 129,\n        \"samples\": [\n          17.7,\n          30.5,\n          30.0\n        ],\n        \"semantic_type\": \"\",\n        \"description\": \"\"\n      }\n    },\n    {\n      \"column\": \"weight\",\n      \"properties\": {\n        \"dtype\": \"number\",\n        \"std\": 846.8417741973271,\n        \"min\": 1613.0,\n        \"max\": 5140.0,\n        \"num_unique_values\": 351,\n        \"samples\": [\n          3730.0,\n          1995.0,\n          2215.0\n        ],\n        \"semantic_type\": \"\",\n        \"description\": \"\"\n      }\n    },\n    {\n      \"column\": \"make\",\n      \"properties\": {\n        \"dtype\": \"category\",\n        \"num_unique_values\": 36,\n        \"samples\": [\n          \"nissan\",\n          \"bmw\",\n          \"subaru\"\n        ],\n        \"semantic_type\": \"\",\n        \"description\": \"\"\n      }\n    }\n  ]\n}"
            }
          },
          "metadata": {},
          "execution_count": 58
        }
      ]
    },
    {
      "cell_type": "markdown",
      "source": [
        "Normalize the numerical data (important for cosine distance if you want features to have \"equal weight\")"
      ],
      "metadata": {
        "id": "zk6XPCwkSg_h"
      }
    },
    {
      "cell_type": "code",
      "source": [
        "dfn = df[['mpg', 'weight']]\n",
        "df[['mpg', 'weight']] = (dfn-dfn.min())/(dfn.max()-dfn.min())\n",
        "df.head()"
      ],
      "metadata": {
        "colab": {
          "base_uri": "https://localhost:8080/",
          "height": 206
        },
        "id": "K-6i_-gySadn",
        "outputId": "7a497b12-5023-4fc0-b067-153cf55b64a1"
      },
      "execution_count": 59,
      "outputs": [
        {
          "output_type": "execute_result",
          "data": {
            "text/plain": [
              "        mpg    weight      make\n",
              "0  0.239362  0.536150     chevy\n",
              "1  0.159574  0.589736     buick\n",
              "2  0.239362  0.516870  plymouth\n",
              "3  0.186170  0.516019       amc\n",
              "4  0.212766  0.520556      ford"
            ],
            "text/html": [
              "\n",
              "  <div id=\"df-e7e7878b-8729-44fc-aad2-195303c9a040\" class=\"colab-df-container\">\n",
              "    <div>\n",
              "<style scoped>\n",
              "    .dataframe tbody tr th:only-of-type {\n",
              "        vertical-align: middle;\n",
              "    }\n",
              "\n",
              "    .dataframe tbody tr th {\n",
              "        vertical-align: top;\n",
              "    }\n",
              "\n",
              "    .dataframe thead th {\n",
              "        text-align: right;\n",
              "    }\n",
              "</style>\n",
              "<table border=\"1\" class=\"dataframe\">\n",
              "  <thead>\n",
              "    <tr style=\"text-align: right;\">\n",
              "      <th></th>\n",
              "      <th>mpg</th>\n",
              "      <th>weight</th>\n",
              "      <th>make</th>\n",
              "    </tr>\n",
              "  </thead>\n",
              "  <tbody>\n",
              "    <tr>\n",
              "      <th>0</th>\n",
              "      <td>0.239362</td>\n",
              "      <td>0.536150</td>\n",
              "      <td>chevy</td>\n",
              "    </tr>\n",
              "    <tr>\n",
              "      <th>1</th>\n",
              "      <td>0.159574</td>\n",
              "      <td>0.589736</td>\n",
              "      <td>buick</td>\n",
              "    </tr>\n",
              "    <tr>\n",
              "      <th>2</th>\n",
              "      <td>0.239362</td>\n",
              "      <td>0.516870</td>\n",
              "      <td>plymouth</td>\n",
              "    </tr>\n",
              "    <tr>\n",
              "      <th>3</th>\n",
              "      <td>0.186170</td>\n",
              "      <td>0.516019</td>\n",
              "      <td>amc</td>\n",
              "    </tr>\n",
              "    <tr>\n",
              "      <th>4</th>\n",
              "      <td>0.212766</td>\n",
              "      <td>0.520556</td>\n",
              "      <td>ford</td>\n",
              "    </tr>\n",
              "  </tbody>\n",
              "</table>\n",
              "</div>\n",
              "    <div class=\"colab-df-buttons\">\n",
              "\n",
              "  <div class=\"colab-df-container\">\n",
              "    <button class=\"colab-df-convert\" onclick=\"convertToInteractive('df-e7e7878b-8729-44fc-aad2-195303c9a040')\"\n",
              "            title=\"Convert this dataframe to an interactive table.\"\n",
              "            style=\"display:none;\">\n",
              "\n",
              "  <svg xmlns=\"http://www.w3.org/2000/svg\" height=\"24px\" viewBox=\"0 -960 960 960\">\n",
              "    <path d=\"M120-120v-720h720v720H120Zm60-500h600v-160H180v160Zm220 220h160v-160H400v160Zm0 220h160v-160H400v160ZM180-400h160v-160H180v160Zm440 0h160v-160H620v160ZM180-180h160v-160H180v160Zm440 0h160v-160H620v160Z\"/>\n",
              "  </svg>\n",
              "    </button>\n",
              "\n",
              "  <style>\n",
              "    .colab-df-container {\n",
              "      display:flex;\n",
              "      gap: 12px;\n",
              "    }\n",
              "\n",
              "    .colab-df-convert {\n",
              "      background-color: #E8F0FE;\n",
              "      border: none;\n",
              "      border-radius: 50%;\n",
              "      cursor: pointer;\n",
              "      display: none;\n",
              "      fill: #1967D2;\n",
              "      height: 32px;\n",
              "      padding: 0 0 0 0;\n",
              "      width: 32px;\n",
              "    }\n",
              "\n",
              "    .colab-df-convert:hover {\n",
              "      background-color: #E2EBFA;\n",
              "      box-shadow: 0px 1px 2px rgba(60, 64, 67, 0.3), 0px 1px 3px 1px rgba(60, 64, 67, 0.15);\n",
              "      fill: #174EA6;\n",
              "    }\n",
              "\n",
              "    .colab-df-buttons div {\n",
              "      margin-bottom: 4px;\n",
              "    }\n",
              "\n",
              "    [theme=dark] .colab-df-convert {\n",
              "      background-color: #3B4455;\n",
              "      fill: #D2E3FC;\n",
              "    }\n",
              "\n",
              "    [theme=dark] .colab-df-convert:hover {\n",
              "      background-color: #434B5C;\n",
              "      box-shadow: 0px 1px 3px 1px rgba(0, 0, 0, 0.15);\n",
              "      filter: drop-shadow(0px 1px 2px rgba(0, 0, 0, 0.3));\n",
              "      fill: #FFFFFF;\n",
              "    }\n",
              "  </style>\n",
              "\n",
              "    <script>\n",
              "      const buttonEl =\n",
              "        document.querySelector('#df-e7e7878b-8729-44fc-aad2-195303c9a040 button.colab-df-convert');\n",
              "      buttonEl.style.display =\n",
              "        google.colab.kernel.accessAllowed ? 'block' : 'none';\n",
              "\n",
              "      async function convertToInteractive(key) {\n",
              "        const element = document.querySelector('#df-e7e7878b-8729-44fc-aad2-195303c9a040');\n",
              "        const dataTable =\n",
              "          await google.colab.kernel.invokeFunction('convertToInteractive',\n",
              "                                                    [key], {});\n",
              "        if (!dataTable) return;\n",
              "\n",
              "        const docLinkHtml = 'Like what you see? Visit the ' +\n",
              "          '<a target=\"_blank\" href=https://colab.research.google.com/notebooks/data_table.ipynb>data table notebook</a>'\n",
              "          + ' to learn more about interactive tables.';\n",
              "        element.innerHTML = '';\n",
              "        dataTable['output_type'] = 'display_data';\n",
              "        await google.colab.output.renderOutput(dataTable, element);\n",
              "        const docLink = document.createElement('div');\n",
              "        docLink.innerHTML = docLinkHtml;\n",
              "        element.appendChild(docLink);\n",
              "      }\n",
              "    </script>\n",
              "  </div>\n",
              "\n",
              "\n",
              "<div id=\"df-b4cb0cbe-d157-40d7-bf1f-083de0b2d144\">\n",
              "  <button class=\"colab-df-quickchart\" onclick=\"quickchart('df-b4cb0cbe-d157-40d7-bf1f-083de0b2d144')\"\n",
              "            title=\"Suggest charts\"\n",
              "            style=\"display:none;\">\n",
              "\n",
              "<svg xmlns=\"http://www.w3.org/2000/svg\" height=\"24px\"viewBox=\"0 0 24 24\"\n",
              "     width=\"24px\">\n",
              "    <g>\n",
              "        <path d=\"M19 3H5c-1.1 0-2 .9-2 2v14c0 1.1.9 2 2 2h14c1.1 0 2-.9 2-2V5c0-1.1-.9-2-2-2zM9 17H7v-7h2v7zm4 0h-2V7h2v10zm4 0h-2v-4h2v4z\"/>\n",
              "    </g>\n",
              "</svg>\n",
              "  </button>\n",
              "\n",
              "<style>\n",
              "  .colab-df-quickchart {\n",
              "      --bg-color: #E8F0FE;\n",
              "      --fill-color: #1967D2;\n",
              "      --hover-bg-color: #E2EBFA;\n",
              "      --hover-fill-color: #174EA6;\n",
              "      --disabled-fill-color: #AAA;\n",
              "      --disabled-bg-color: #DDD;\n",
              "  }\n",
              "\n",
              "  [theme=dark] .colab-df-quickchart {\n",
              "      --bg-color: #3B4455;\n",
              "      --fill-color: #D2E3FC;\n",
              "      --hover-bg-color: #434B5C;\n",
              "      --hover-fill-color: #FFFFFF;\n",
              "      --disabled-bg-color: #3B4455;\n",
              "      --disabled-fill-color: #666;\n",
              "  }\n",
              "\n",
              "  .colab-df-quickchart {\n",
              "    background-color: var(--bg-color);\n",
              "    border: none;\n",
              "    border-radius: 50%;\n",
              "    cursor: pointer;\n",
              "    display: none;\n",
              "    fill: var(--fill-color);\n",
              "    height: 32px;\n",
              "    padding: 0;\n",
              "    width: 32px;\n",
              "  }\n",
              "\n",
              "  .colab-df-quickchart:hover {\n",
              "    background-color: var(--hover-bg-color);\n",
              "    box-shadow: 0 1px 2px rgba(60, 64, 67, 0.3), 0 1px 3px 1px rgba(60, 64, 67, 0.15);\n",
              "    fill: var(--button-hover-fill-color);\n",
              "  }\n",
              "\n",
              "  .colab-df-quickchart-complete:disabled,\n",
              "  .colab-df-quickchart-complete:disabled:hover {\n",
              "    background-color: var(--disabled-bg-color);\n",
              "    fill: var(--disabled-fill-color);\n",
              "    box-shadow: none;\n",
              "  }\n",
              "\n",
              "  .colab-df-spinner {\n",
              "    border: 2px solid var(--fill-color);\n",
              "    border-color: transparent;\n",
              "    border-bottom-color: var(--fill-color);\n",
              "    animation:\n",
              "      spin 1s steps(1) infinite;\n",
              "  }\n",
              "\n",
              "  @keyframes spin {\n",
              "    0% {\n",
              "      border-color: transparent;\n",
              "      border-bottom-color: var(--fill-color);\n",
              "      border-left-color: var(--fill-color);\n",
              "    }\n",
              "    20% {\n",
              "      border-color: transparent;\n",
              "      border-left-color: var(--fill-color);\n",
              "      border-top-color: var(--fill-color);\n",
              "    }\n",
              "    30% {\n",
              "      border-color: transparent;\n",
              "      border-left-color: var(--fill-color);\n",
              "      border-top-color: var(--fill-color);\n",
              "      border-right-color: var(--fill-color);\n",
              "    }\n",
              "    40% {\n",
              "      border-color: transparent;\n",
              "      border-right-color: var(--fill-color);\n",
              "      border-top-color: var(--fill-color);\n",
              "    }\n",
              "    60% {\n",
              "      border-color: transparent;\n",
              "      border-right-color: var(--fill-color);\n",
              "    }\n",
              "    80% {\n",
              "      border-color: transparent;\n",
              "      border-right-color: var(--fill-color);\n",
              "      border-bottom-color: var(--fill-color);\n",
              "    }\n",
              "    90% {\n",
              "      border-color: transparent;\n",
              "      border-bottom-color: var(--fill-color);\n",
              "    }\n",
              "  }\n",
              "</style>\n",
              "\n",
              "  <script>\n",
              "    async function quickchart(key) {\n",
              "      const quickchartButtonEl =\n",
              "        document.querySelector('#' + key + ' button');\n",
              "      quickchartButtonEl.disabled = true;  // To prevent multiple clicks.\n",
              "      quickchartButtonEl.classList.add('colab-df-spinner');\n",
              "      try {\n",
              "        const charts = await google.colab.kernel.invokeFunction(\n",
              "            'suggestCharts', [key], {});\n",
              "      } catch (error) {\n",
              "        console.error('Error during call to suggestCharts:', error);\n",
              "      }\n",
              "      quickchartButtonEl.classList.remove('colab-df-spinner');\n",
              "      quickchartButtonEl.classList.add('colab-df-quickchart-complete');\n",
              "    }\n",
              "    (() => {\n",
              "      let quickchartButtonEl =\n",
              "        document.querySelector('#df-b4cb0cbe-d157-40d7-bf1f-083de0b2d144 button');\n",
              "      quickchartButtonEl.style.display =\n",
              "        google.colab.kernel.accessAllowed ? 'block' : 'none';\n",
              "    })();\n",
              "  </script>\n",
              "</div>\n",
              "\n",
              "    </div>\n",
              "  </div>\n"
            ],
            "application/vnd.google.colaboratory.intrinsic+json": {
              "type": "dataframe",
              "variable_name": "df",
              "summary": "{\n  \"name\": \"df\",\n  \"rows\": 398,\n  \"fields\": [\n    {\n      \"column\": \"mpg\",\n      \"properties\": {\n        \"dtype\": \"number\",\n        \"std\": 0.20787192320653664,\n        \"min\": 0.0,\n        \"max\": 1.0,\n        \"num_unique_values\": 129,\n        \"samples\": [\n          0.23138297872340421,\n          0.5718085106382979,\n          0.5585106382978723\n        ],\n        \"semantic_type\": \"\",\n        \"description\": \"\"\n      }\n    },\n    {\n      \"column\": \"weight\",\n      \"properties\": {\n        \"dtype\": \"number\",\n        \"std\": 0.24010257278064284,\n        \"min\": 0.0,\n        \"max\": 1.0,\n        \"num_unique_values\": 351,\n        \"samples\": [\n          0.6002268216614687,\n          0.10830734335129005,\n          0.17068330025517436\n        ],\n        \"semantic_type\": \"\",\n        \"description\": \"\"\n      }\n    },\n    {\n      \"column\": \"make\",\n      \"properties\": {\n        \"dtype\": \"category\",\n        \"num_unique_values\": 36,\n        \"samples\": [\n          \"nissan\",\n          \"bmw\",\n          \"subaru\"\n        ],\n        \"semantic_type\": \"\",\n        \"description\": \"\"\n      }\n    }\n  ]\n}"
            }
          },
          "metadata": {},
          "execution_count": 59
        }
      ]
    },
    {
      "cell_type": "code",
      "source": [
        "chevy = df.loc[df['make'] == 'chevy']\n",
        "honda = df.loc[df['make'] == 'honda']\n",
        "\n",
        "plt.scatter(chevy['mpg'], chevy['weight'], marker='o', label='chevy')\n",
        "plt.scatter(honda['mpg'], honda['weight'], marker='^', label='honda')\n",
        "plt.xlabel('mpg')\n",
        "plt.ylabel('weight')\n",
        "plt.legend()\n",
        "plt.show()"
      ],
      "metadata": {
        "colab": {
          "base_uri": "https://localhost:8080/",
          "height": 453
        },
        "id": "6ZVyVcgBSidW",
        "outputId": "19eab01e-44e7-4518-e8a7-1d2b227b52fe"
      },
      "execution_count": 60,
      "outputs": [
        {
          "output_type": "display_data",
          "data": {
            "text/plain": [
              "<Figure size 640x480 with 1 Axes>"
            ],
            "image/png": "[encoded data removed]"
          },
          "metadata": {}
        }
      ]
    },
    {
      "cell_type": "code",
      "source": [
        "chevy_data = chevy[['mpg', 'weight']].to_numpy()\n",
        "honda_data = honda[['mpg', 'weight']].to_numpy()"
      ],
      "metadata": {
        "id": "Qqt5DS6MSoax"
      },
      "execution_count": 61,
      "outputs": []
    },
    {
      "cell_type": "code",
      "source": [
        "avg_distance(chevy_data, chevy_data, cosine)"
      ],
      "metadata": {
        "colab": {
          "base_uri": "https://localhost:8080/"
        },
        "id": "zdIqv9ZbTUp2",
        "outputId": "d0fd6cf9-b36a-4b4d-f442-426043ef27f6"
      },
      "execution_count": 62,
      "outputs": [
        {
          "output_type": "execute_result",
          "data": {
            "text/plain": [
              "0.1686029684688174"
            ]
          },
          "metadata": {},
          "execution_count": 62
        }
      ]
    },
    {
      "cell_type": "code",
      "source": [
        "avg_distance(honda_data, honda_data, cosine)"
      ],
      "metadata": {
        "colab": {
          "base_uri": "https://localhost:8080/"
        },
        "id": "QM0CVzvDThOR",
        "outputId": "dfd186e4-36c9-42ba-e17e-4757bc20d7c2"
      },
      "execution_count": 63,
      "outputs": [
        {
          "output_type": "execute_result",
          "data": {
            "text/plain": [
              "0.017557196207440316"
            ]
          },
          "metadata": {},
          "execution_count": 63
        }
      ]
    },
    {
      "cell_type": "code",
      "source": [
        "avg_distance(honda_data, chevy_data, cosine)"
      ],
      "metadata": {
        "colab": {
          "base_uri": "https://localhost:8080/"
        },
        "id": "hZwV8brVTmpu",
        "outputId": "dd51f371-cab5-42f4-9127-e316f6dec1f9"
      },
      "execution_count": 64,
      "outputs": [
        {
          "output_type": "execute_result",
          "data": {
            "text/plain": [
              "0.3511900540950527"
            ]
          },
          "metadata": {},
          "execution_count": 64
        }
      ]
    },
    {
      "cell_type": "markdown",
      "source": [
        "We can also determine the pairwise cosine distance between two points using cosine_distances from sklearn.metrics.pairwise:"
      ],
      "metadata": {
        "id": "P-gaHO1YT8T8"
      }
    },
    {
      "cell_type": "code",
      "source": [
        "from sklearn.metrics.pairwise import cosine_distances"
      ],
      "metadata": {
        "id": "yIgN_BAWTp22"
      },
      "execution_count": 65,
      "outputs": []
    },
    {
      "cell_type": "code",
      "source": [
        "X = np.array([[1, 1]])\n",
        "Y = np.array([[-1, -1]])\n",
        "cosine_distances(X, Y)"
      ],
      "metadata": {
        "colab": {
          "base_uri": "https://localhost:8080/"
        },
        "id": "0m3wuN2jTsqu",
        "outputId": "d724e26e-e6b4-43a0-c257-f1a812423714"
      },
      "execution_count": 66,
      "outputs": [
        {
          "output_type": "execute_result",
          "data": {
            "text/plain": [
              "array([[2.]])"
            ]
          },
          "metadata": {},
          "execution_count": 66
        }
      ]
    },
    {
      "cell_type": "markdown",
      "source": [
        "You can derive the cosine distance from the cosine similarity as follows\n",
        "\n",
        "cosine_distance = 1 - cosine_similarity"
      ],
      "metadata": {
        "id": "UumVLsxMUE_A"
      }
    },
    {
      "cell_type": "code",
      "source": [
        "from sklearn.metrics.pairwise import cosine_similarity\n",
        "1-cosine_similarity(X,Y)"
      ],
      "metadata": {
        "colab": {
          "base_uri": "https://localhost:8080/"
        },
        "id": "o6m5a7l2TvrO",
        "outputId": "ba60ac1b-3170-4d41-911b-5ee800b6c9fd"
      },
      "execution_count": 67,
      "outputs": [
        {
          "output_type": "execute_result",
          "data": {
            "text/plain": [
              "array([[2.]])"
            ]
          },
          "metadata": {},
          "execution_count": 67
        }
      ]
    },
    {
      "cell_type": "code",
      "source": [
        "cosine_distances(chevy_data, chevy_data).mean()"
      ],
      "metadata": {
        "colab": {
          "base_uri": "https://localhost:8080/"
        },
        "id": "qtGT1H9-Tyfk",
        "outputId": "baef657a-e554-43a4-b4f2-7fa74e663a9b"
      },
      "execution_count": 68,
      "outputs": [
        {
          "output_type": "execute_result",
          "data": {
            "text/plain": [
              "0.1686029684688178"
            ]
          },
          "metadata": {},
          "execution_count": 68
        }
      ]
    },
    {
      "cell_type": "code",
      "source": [
        "cosine_distances(honda_data, chevy_data).mean()"
      ],
      "metadata": {
        "colab": {
          "base_uri": "https://localhost:8080/"
        },
        "id": "Snd9BQ4LTzmM",
        "outputId": "0e74a76b-b4d6-43d0-93e8-8b5bb1d74ced"
      },
      "execution_count": 69,
      "outputs": [
        {
          "output_type": "execute_result",
          "data": {
            "text/plain": [
              "0.35119005409505294"
            ]
          },
          "metadata": {},
          "execution_count": 69
        }
      ]
    },
    {
      "cell_type": "markdown",
      "source": [
        "Analyzing Distance Metrics with DBSCAN\n",
        "Now that we've learned various numerical distance metrics, let's see how they affect a clustering algorithm.\n",
        "\n",
        "We begin by importing the DBSCAN object from sklearn.neighbors and downloading a synthetic dataset for clustering:"
      ],
      "metadata": {
        "id": "6QxH9fRUUIxu"
      }
    },
    {
      "cell_type": "code",
      "source": [
        "from sklearn.cluster import DBSCAN\n",
        "df = pd.read_csv('https://cf-courses-data.s3.us.cloud-object-storage.appdomain.cloud/IBM-ML0187EN-SkillsNetwork/labs/module%202/data/synthetic_clustering.csv')\n",
        "df.head()"
      ],
      "metadata": {
        "colab": {
          "base_uri": "https://localhost:8080/",
          "height": 206
        },
        "id": "sWt8d90DUP6O",
        "outputId": "9915f800-baa5-41bc-8bf5-8200e3ab0b80"
      },
      "execution_count": 70,
      "outputs": [
        {
          "output_type": "execute_result",
          "data": {
            "text/plain": [
              "          x         y\n",
              "0 -0.285980  1.149042\n",
              "1 -0.296288  1.204223\n",
              "2 -1.157672 -1.406545\n",
              "3 -0.653802 -0.993525\n",
              "4  1.347072  1.329942"
            ],
            "text/html": [
              "\n",
              "  <div id=\"df-a6930cb3-15ab-4015-ab1e-3ebaab4d3636\" class=\"colab-df-container\">\n",
              "    <div>\n",
              "<style scoped>\n",
              "    .dataframe tbody tr th:only-of-type {\n",
              "        vertical-align: middle;\n",
              "    }\n",
              "\n",
              "    .dataframe tbody tr th {\n",
              "        vertical-align: top;\n",
              "    }\n",
              "\n",
              "    .dataframe thead th {\n",
              "        text-align: right;\n",
              "    }\n",
              "</style>\n",
              "<table border=\"1\" class=\"dataframe\">\n",
              "  <thead>\n",
              "    <tr style=\"text-align: right;\">\n",
              "      <th></th>\n",
              "      <th>x</th>\n",
              "      <th>y</th>\n",
              "    </tr>\n",
              "  </thead>\n",
              "  <tbody>\n",
              "    <tr>\n",
              "      <th>0</th>\n",
              "      <td>-0.285980</td>\n",
              "      <td>1.149042</td>\n",
              "    </tr>\n",
              "    <tr>\n",
              "      <th>1</th>\n",
              "      <td>-0.296288</td>\n",
              "      <td>1.204223</td>\n",
              "    </tr>\n",
              "    <tr>\n",
              "      <th>2</th>\n",
              "      <td>-1.157672</td>\n",
              "      <td>-1.406545</td>\n",
              "    </tr>\n",
              "    <tr>\n",
              "      <th>3</th>\n",
              "      <td>-0.653802</td>\n",
              "      <td>-0.993525</td>\n",
              "    </tr>\n",
              "    <tr>\n",
              "      <th>4</th>\n",
              "      <td>1.347072</td>\n",
              "      <td>1.329942</td>\n",
              "    </tr>\n",
              "  </tbody>\n",
              "</table>\n",
              "</div>\n",
              "    <div class=\"colab-df-buttons\">\n",
              "\n",
              "  <div class=\"colab-df-container\">\n",
              "    <button class=\"colab-df-convert\" onclick=\"convertToInteractive('df-a6930cb3-15ab-4015-ab1e-3ebaab4d3636')\"\n",
              "            title=\"Convert this dataframe to an interactive table.\"\n",
              "            style=\"display:none;\">\n",
              "\n",
              "  <svg xmlns=\"http://www.w3.org/2000/svg\" height=\"24px\" viewBox=\"0 -960 960 960\">\n",
              "    <path d=\"M120-120v-720h720v720H120Zm60-500h600v-160H180v160Zm220 220h160v-160H400v160Zm0 220h160v-160H400v160ZM180-400h160v-160H180v160Zm440 0h160v-160H620v160ZM180-180h160v-160H180v160Zm440 0h160v-160H620v160Z\"/>\n",
              "  </svg>\n",
              "    </button>\n",
              "\n",
              "  <style>\n",
              "    .colab-df-container {\n",
              "      display:flex;\n",
              "      gap: 12px;\n",
              "    }\n",
              "\n",
              "    .colab-df-convert {\n",
              "      background-color: #E8F0FE;\n",
              "      border: none;\n",
              "      border-radius: 50%;\n",
              "      cursor: pointer;\n",
              "      display: none;\n",
              "      fill: #1967D2;\n",
              "      height: 32px;\n",
              "      padding: 0 0 0 0;\n",
              "      width: 32px;\n",
              "    }\n",
              "\n",
              "    .colab-df-convert:hover {\n",
              "      background-color: #E2EBFA;\n",
              "      box-shadow: 0px 1px 2px rgba(60, 64, 67, 0.3), 0px 1px 3px 1px rgba(60, 64, 67, 0.15);\n",
              "      fill: #174EA6;\n",
              "    }\n",
              "\n",
              "    .colab-df-buttons div {\n",
              "      margin-bottom: 4px;\n",
              "    }\n",
              "\n",
              "    [theme=dark] .colab-df-convert {\n",
              "      background-color: #3B4455;\n",
              "      fill: #D2E3FC;\n",
              "    }\n",
              "\n",
              "    [theme=dark] .colab-df-convert:hover {\n",
              "      background-color: #434B5C;\n",
              "      box-shadow: 0px 1px 3px 1px rgba(0, 0, 0, 0.15);\n",
              "      filter: drop-shadow(0px 1px 2px rgba(0, 0, 0, 0.3));\n",
              "      fill: #FFFFFF;\n",
              "    }\n",
              "  </style>\n",
              "\n",
              "    <script>\n",
              "      const buttonEl =\n",
              "        document.querySelector('#df-a6930cb3-15ab-4015-ab1e-3ebaab4d3636 button.colab-df-convert');\n",
              "      buttonEl.style.display =\n",
              "        google.colab.kernel.accessAllowed ? 'block' : 'none';\n",
              "\n",
              "      async function convertToInteractive(key) {\n",
              "        const element = document.querySelector('#df-a6930cb3-15ab-4015-ab1e-3ebaab4d3636');\n",
              "        const dataTable =\n",
              "          await google.colab.kernel.invokeFunction('convertToInteractive',\n",
              "                                                    [key], {});\n",
              "        if (!dataTable) return;\n",
              "\n",
              "        const docLinkHtml = 'Like what you see? Visit the ' +\n",
              "          '<a target=\"_blank\" href=https://colab.research.google.com/notebooks/data_table.ipynb>data table notebook</a>'\n",
              "          + ' to learn more about interactive tables.';\n",
              "        element.innerHTML = '';\n",
              "        dataTable['output_type'] = 'display_data';\n",
              "        await google.colab.output.renderOutput(dataTable, element);\n",
              "        const docLink = document.createElement('div');\n",
              "        docLink.innerHTML = docLinkHtml;\n",
              "        element.appendChild(docLink);\n",
              "      }\n",
              "    </script>\n",
              "  </div>\n",
              "\n",
              "\n",
              "<div id=\"df-89064a07-0b83-4cee-9ec5-a54b3ec9bb2c\">\n",
              "  <button class=\"colab-df-quickchart\" onclick=\"quickchart('df-89064a07-0b83-4cee-9ec5-a54b3ec9bb2c')\"\n",
              "            title=\"Suggest charts\"\n",
              "            style=\"display:none;\">\n",
              "\n",
              "<svg xmlns=\"http://www.w3.org/2000/svg\" height=\"24px\"viewBox=\"0 0 24 24\"\n",
              "     width=\"24px\">\n",
              "    <g>\n",
              "        <path d=\"M19 3H5c-1.1 0-2 .9-2 2v14c0 1.1.9 2 2 2h14c1.1 0 2-.9 2-2V5c0-1.1-.9-2-2-2zM9 17H7v-7h2v7zm4 0h-2V7h2v10zm4 0h-2v-4h2v4z\"/>\n",
              "    </g>\n",
              "</svg>\n",
              "  </button>\n",
              "\n",
              "<style>\n",
              "  .colab-df-quickchart {\n",
              "      --bg-color: #E8F0FE;\n",
              "      --fill-color: #1967D2;\n",
              "      --hover-bg-color: #E2EBFA;\n",
              "      --hover-fill-color: #174EA6;\n",
              "      --disabled-fill-color: #AAA;\n",
              "      --disabled-bg-color: #DDD;\n",
              "  }\n",
              "\n",
              "  [theme=dark] .colab-df-quickchart {\n",
              "      --bg-color: #3B4455;\n",
              "      --fill-color: #D2E3FC;\n",
              "      --hover-bg-color: #434B5C;\n",
              "      --hover-fill-color: #FFFFFF;\n",
              "      --disabled-bg-color: #3B4455;\n",
              "      --disabled-fill-color: #666;\n",
              "  }\n",
              "\n",
              "  .colab-df-quickchart {\n",
              "    background-color: var(--bg-color);\n",
              "    border: none;\n",
              "    border-radius: 50%;\n",
              "    cursor: pointer;\n",
              "    display: none;\n",
              "    fill: var(--fill-color);\n",
              "    height: 32px;\n",
              "    padding: 0;\n",
              "    width: 32px;\n",
              "  }\n",
              "\n",
              "  .colab-df-quickchart:hover {\n",
              "    background-color: var(--hover-bg-color);\n",
              "    box-shadow: 0 1px 2px rgba(60, 64, 67, 0.3), 0 1px 3px 1px rgba(60, 64, 67, 0.15);\n",
              "    fill: var(--button-hover-fill-color);\n",
              "  }\n",
              "\n",
              "  .colab-df-quickchart-complete:disabled,\n",
              "  .colab-df-quickchart-complete:disabled:hover {\n",
              "    background-color: var(--disabled-bg-color);\n",
              "    fill: var(--disabled-fill-color);\n",
              "    box-shadow: none;\n",
              "  }\n",
              "\n",
              "  .colab-df-spinner {\n",
              "    border: 2px solid var(--fill-color);\n",
              "    border-color: transparent;\n",
              "    border-bottom-color: var(--fill-color);\n",
              "    animation:\n",
              "      spin 1s steps(1) infinite;\n",
              "  }\n",
              "\n",
              "  @keyframes spin {\n",
              "    0% {\n",
              "      border-color: transparent;\n",
              "      border-bottom-color: var(--fill-color);\n",
              "      border-left-color: var(--fill-color);\n",
              "    }\n",
              "    20% {\n",
              "      border-color: transparent;\n",
              "      border-left-color: var(--fill-color);\n",
              "      border-top-color: var(--fill-color);\n",
              "    }\n",
              "    30% {\n",
              "      border-color: transparent;\n",
              "      border-left-color: var(--fill-color);\n",
              "      border-top-color: var(--fill-color);\n",
              "      border-right-color: var(--fill-color);\n",
              "    }\n",
              "    40% {\n",
              "      border-color: transparent;\n",
              "      border-right-color: var(--fill-color);\n",
              "      border-top-color: var(--fill-color);\n",
              "    }\n",
              "    60% {\n",
              "      border-color: transparent;\n",
              "      border-right-color: var(--fill-color);\n",
              "    }\n",
              "    80% {\n",
              "      border-color: transparent;\n",
              "      border-right-color: var(--fill-color);\n",
              "      border-bottom-color: var(--fill-color);\n",
              "    }\n",
              "    90% {\n",
              "      border-color: transparent;\n",
              "      border-bottom-color: var(--fill-color);\n",
              "    }\n",
              "  }\n",
              "</style>\n",
              "\n",
              "  <script>\n",
              "    async function quickchart(key) {\n",
              "      const quickchartButtonEl =\n",
              "        document.querySelector('#' + key + ' button');\n",
              "      quickchartButtonEl.disabled = true;  // To prevent multiple clicks.\n",
              "      quickchartButtonEl.classList.add('colab-df-spinner');\n",
              "      try {\n",
              "        const charts = await google.colab.kernel.invokeFunction(\n",
              "            'suggestCharts', [key], {});\n",
              "      } catch (error) {\n",
              "        console.error('Error during call to suggestCharts:', error);\n",
              "      }\n",
              "      quickchartButtonEl.classList.remove('colab-df-spinner');\n",
              "      quickchartButtonEl.classList.add('colab-df-quickchart-complete');\n",
              "    }\n",
              "    (() => {\n",
              "      let quickchartButtonEl =\n",
              "        document.querySelector('#df-89064a07-0b83-4cee-9ec5-a54b3ec9bb2c button');\n",
              "      quickchartButtonEl.style.display =\n",
              "        google.colab.kernel.accessAllowed ? 'block' : 'none';\n",
              "    })();\n",
              "  </script>\n",
              "</div>\n",
              "\n",
              "    </div>\n",
              "  </div>\n"
            ],
            "application/vnd.google.colaboratory.intrinsic+json": {
              "type": "dataframe",
              "variable_name": "df",
              "summary": "{\n  \"name\": \"df\",\n  \"rows\": 1104,\n  \"fields\": [\n    {\n      \"column\": \"x\",\n      \"properties\": {\n        \"dtype\": \"number\",\n        \"std\": 0.9946905394845456,\n        \"min\": -1.5612484707838157,\n        \"max\": 1.7110418669427216,\n        \"num_unique_values\": 1104,\n        \"samples\": [\n          -0.1625376293678453,\n          -1.1600712557739,\n          -0.6532454889417391\n        ],\n        \"semantic_type\": \"\",\n        \"description\": \"\"\n      }\n    },\n    {\n      \"column\": \"y\",\n      \"properties\": {\n        \"dtype\": \"number\",\n        \"std\": 0.991084880933767,\n        \"min\": -1.5450890581846366,\n        \"max\": 2.105924219361909,\n        \"num_unique_values\": 1104,\n        \"samples\": [\n          -0.8667842997190598,\n          -0.81863620051602,\n          -0.9888012152933616\n        ],\n        \"semantic_type\": \"\",\n        \"description\": \"\"\n      }\n    }\n  ]\n}"
            }
          },
          "metadata": {},
          "execution_count": 70
        }
      ]
    },
    {
      "cell_type": "markdown",
      "source": [
        "DBSCAN using Euclidean:"
      ],
      "metadata": {
        "id": "VYuDSOgVUeqP"
      }
    },
    {
      "cell_type": "code",
      "source": [
        "plt.scatter(df['x'], df['y'])\n",
        "plt.xlabel('x')\n",
        "plt.ylabel('y')\n",
        "plt.show()"
      ],
      "metadata": {
        "colab": {
          "base_uri": "https://localhost:8080/",
          "height": 449
        },
        "id": "TUnpOImPUSOM",
        "outputId": "1dcfbe4a-290b-4946-850f-c4b4713e3285"
      },
      "execution_count": 71,
      "outputs": [
        {
          "output_type": "display_data",
          "data": {
            "text/plain": [
              "<Figure size 640x480 with 1 Axes>"
            ],
            "image/png": "[encoded data removed]"
          },
          "metadata": {}
        }
      ]
    },
    {
      "cell_type": "markdown",
      "source": [
        "DBSCAN using Manhattan"
      ],
      "metadata": {
        "id": "d4bvlL5OUf7u"
      }
    },
    {
      "cell_type": "code",
      "source": [
        "dbscan = DBSCAN(eps=0.1, metric=euclidean)\n",
        "dbscan.fit(df)\n",
        "colors = np.random.random(size=3*(dbscan.labels_.max()+1)).reshape(-1, 3)\n",
        "plt.scatter(df['x'], df['y'], c=[colors[l] for l in dbscan.labels_])\n",
        "plt.show()"
      ],
      "metadata": {
        "colab": {
          "base_uri": "https://localhost:8080/",
          "height": 430
        },
        "id": "oNYu1vmDUXDg",
        "outputId": "36534fc2-fec5-4a35-b755-612ab2858684"
      },
      "execution_count": 72,
      "outputs": [
        {
          "output_type": "display_data",
          "data": {
            "text/plain": [
              "<Figure size 640x480 with 1 Axes>"
            ],
            "image/png": "[encoded data removed]"
          },
          "metadata": {}
        }
      ]
    },
    {
      "cell_type": "markdown",
      "source": [
        "DBSCAN using Cosine"
      ],
      "metadata": {
        "id": "LYFeiqZVUjYH"
      }
    },
    {
      "cell_type": "code",
      "source": [
        "dbscan = DBSCAN(eps=0.1, metric=cosine)\n",
        "dbscan.fit(df)\n",
        "colors = np.random.random(size=3*(dbscan.labels_.max()+1)).reshape(-1, 3)\n",
        "plt.scatter(df['x'], df['y'], c=[colors[l] for l in dbscan.labels_])\n",
        "plt.show()"
      ],
      "metadata": {
        "colab": {
          "base_uri": "https://localhost:8080/",
          "height": 430
        },
        "id": "AfA132F4Ulx2",
        "outputId": "9dfbc35e-9964-4c92-9d45-50c421b3dbb5"
      },
      "execution_count": 73,
      "outputs": [
        {
          "output_type": "display_data",
          "data": {
            "text/plain": [
              "<Figure size 640x480 with 1 Axes>"
            ],
            "image/png": "[encoded data removed]"
          },
          "metadata": {}
        }
      ]
    },
    {
      "cell_type": "markdown",
      "source": [
        "Clearly, euclidean and manhattan distances have very similar results.\n",
        "\n",
        "However, using cosine distance, DBSCAN groups points based on their angle, leading to unique results which is some cases may be very useful.\n",
        "\n",
        "Jaccard Distance\n",
        "In this task, you will learn and practice applying Jaccard distance.\n",
        "\n",
        "The Jaccard distance is used to compute the dissimilarity/distance of two sets of objects.\n",
        "\n",
        "The Jaccard distance between two sets is a value in the range  [0,1]\n",
        "[\n",
        "0\n",
        ",\n",
        "1\n",
        "]\n",
        "  where:\n",
        "\n",
        "1\n",
        "1\n",
        "  means the two sets have nothing in common.\n",
        "0\n",
        "0\n",
        "  means the two sets are identical.\n",
        "So the greater the jaccard distance, the less similar the sets.\n",
        "\n",
        "Jaccard distance is useful when comparing two sets of (usually) non-numerical objects\n",
        "\n",
        "General Equation\n",
        "The general equation for the jaccard distance between two sets  𝐴\n",
        "𝐴\n",
        "  and  𝐵\n",
        "𝐵\n",
        "  is:\n",
        "\n",
        "1−|𝐴∩𝐵||𝐴∪𝐵|\n",
        "1\n",
        "−\n",
        "|\n",
        "𝐴\n",
        "∩\n",
        "𝐵\n",
        "|\n",
        "|\n",
        "𝐴\n",
        "∪\n",
        "𝐵\n",
        "|\n",
        "\n",
        "\n",
        "∩\n",
        "∩\n",
        "  means \"set intersection\"\n",
        "∪\n",
        "∪\n",
        "  means \"union\"\n",
        "|𝑆|\n",
        "|\n",
        "𝑆\n",
        "|\n",
        "  means the \"length of set  𝑆\n",
        "𝑆\n",
        " \"\n",
        "We can use sklearn.metrics.jaccard_score to compute the jaccard distance between categorical data.\n",
        "\n",
        "NOTE: sklearn.metrics.jaccard_score calculates the jaccard similarity score, which is 1 - jaccard distance."
      ],
      "metadata": {
        "id": "U9sDyQr0UyBB"
      }
    },
    {
      "cell_type": "code",
      "source": [
        "from sklearn.metrics import jaccard_score"
      ],
      "metadata": {
        "id": "3_Fo9buzUzgE"
      },
      "execution_count": 74,
      "outputs": []
    },
    {
      "cell_type": "markdown",
      "source": [
        "For this exercise, we will use a different dataset.\n",
        "\n",
        "Download the dataset \"breast-cancer.data\" which contains information about people diagnosed with breast cancer:"
      ],
      "metadata": {
        "id": "r2k-gVMGU8NI"
      }
    },
    {
      "cell_type": "code",
      "source": [
        "df = pd.read_csv(\n",
        "    'https://cf-courses-data.s3.us.cloud-object-storage.appdomain.cloud/IBM-ML0187EN-SkillsNetwork/labs/module%202/breast-cancer.data',\n",
        "    header=None,\n",
        "    names=['Class', 'age', 'menopause', 'tumor-size', 'inv-nodes', 'node-caps', 'deg-malig', 'breast', 'breast-quad', 'irradiat'])\n",
        "df.head()"
      ],
      "metadata": {
        "colab": {
          "base_uri": "https://localhost:8080/",
          "height": 206
        },
        "id": "seQ5SD8ZU-nR",
        "outputId": "729d6e62-d450-441a-d92d-7ca46d6eabf2"
      },
      "execution_count": 75,
      "outputs": [
        {
          "output_type": "execute_result",
          "data": {
            "text/plain": [
              "                  Class    age menopause tumor-size inv-nodes node-caps  \\\n",
              "0  no-recurrence-events  30-39   premeno      30-34       0-2        no   \n",
              "1  no-recurrence-events  40-49   premeno      20-24       0-2        no   \n",
              "2  no-recurrence-events  40-49   premeno      20-24       0-2        no   \n",
              "3  no-recurrence-events  60-69      ge40      15-19       0-2        no   \n",
              "4  no-recurrence-events  40-49   premeno        0-4       0-2        no   \n",
              "\n",
              "   deg-malig breast breast-quad irradiat  \n",
              "0          3   left    left_low       no  \n",
              "1          2  right    right_up       no  \n",
              "2          2   left    left_low       no  \n",
              "3          2  right     left_up       no  \n",
              "4          2  right   right_low       no  "
            ],
            "text/html": [
              "\n",
              "  <div id=\"df-1c4e2f74-e53d-47bd-b9db-3fb6254b901b\" class=\"colab-df-container\">\n",
              "    <div>\n",
              "<style scoped>\n",
              "    .dataframe tbody tr th:only-of-type {\n",
              "        vertical-align: middle;\n",
              "    }\n",
              "\n",
              "    .dataframe tbody tr th {\n",
              "        vertical-align: top;\n",
              "    }\n",
              "\n",
              "    .dataframe thead th {\n",
              "        text-align: right;\n",
              "    }\n",
              "</style>\n",
              "<table border=\"1\" class=\"dataframe\">\n",
              "  <thead>\n",
              "    <tr style=\"text-align: right;\">\n",
              "      <th></th>\n",
              "      <th>Class</th>\n",
              "      <th>age</th>\n",
              "      <th>menopause</th>\n",
              "      <th>tumor-size</th>\n",
              "      <th>inv-nodes</th>\n",
              "      <th>node-caps</th>\n",
              "      <th>deg-malig</th>\n",
              "      <th>breast</th>\n",
              "      <th>breast-quad</th>\n",
              "      <th>irradiat</th>\n",
              "    </tr>\n",
              "  </thead>\n",
              "  <tbody>\n",
              "    <tr>\n",
              "      <th>0</th>\n",
              "      <td>no-recurrence-events</td>\n",
              "      <td>30-39</td>\n",
              "      <td>premeno</td>\n",
              "      <td>30-34</td>\n",
              "      <td>0-2</td>\n",
              "      <td>no</td>\n",
              "      <td>3</td>\n",
              "      <td>left</td>\n",
              "      <td>left_low</td>\n",
              "      <td>no</td>\n",
              "    </tr>\n",
              "    <tr>\n",
              "      <th>1</th>\n",
              "      <td>no-recurrence-events</td>\n",
              "      <td>40-49</td>\n",
              "      <td>premeno</td>\n",
              "      <td>20-24</td>\n",
              "      <td>0-2</td>\n",
              "      <td>no</td>\n",
              "      <td>2</td>\n",
              "      <td>right</td>\n",
              "      <td>right_up</td>\n",
              "      <td>no</td>\n",
              "    </tr>\n",
              "    <tr>\n",
              "      <th>2</th>\n",
              "      <td>no-recurrence-events</td>\n",
              "      <td>40-49</td>\n",
              "      <td>premeno</td>\n",
              "      <td>20-24</td>\n",
              "      <td>0-2</td>\n",
              "      <td>no</td>\n",
              "      <td>2</td>\n",
              "      <td>left</td>\n",
              "      <td>left_low</td>\n",
              "      <td>no</td>\n",
              "    </tr>\n",
              "    <tr>\n",
              "      <th>3</th>\n",
              "      <td>no-recurrence-events</td>\n",
              "      <td>60-69</td>\n",
              "      <td>ge40</td>\n",
              "      <td>15-19</td>\n",
              "      <td>0-2</td>\n",
              "      <td>no</td>\n",
              "      <td>2</td>\n",
              "      <td>right</td>\n",
              "      <td>left_up</td>\n",
              "      <td>no</td>\n",
              "    </tr>\n",
              "    <tr>\n",
              "      <th>4</th>\n",
              "      <td>no-recurrence-events</td>\n",
              "      <td>40-49</td>\n",
              "      <td>premeno</td>\n",
              "      <td>0-4</td>\n",
              "      <td>0-2</td>\n",
              "      <td>no</td>\n",
              "      <td>2</td>\n",
              "      <td>right</td>\n",
              "      <td>right_low</td>\n",
              "      <td>no</td>\n",
              "    </tr>\n",
              "  </tbody>\n",
              "</table>\n",
              "</div>\n",
              "    <div class=\"colab-df-buttons\">\n",
              "\n",
              "  <div class=\"colab-df-container\">\n",
              "    <button class=\"colab-df-convert\" onclick=\"convertToInteractive('df-1c4e2f74-e53d-47bd-b9db-3fb6254b901b')\"\n",
              "            title=\"Convert this dataframe to an interactive table.\"\n",
              "            style=\"display:none;\">\n",
              "\n",
              "  <svg xmlns=\"http://www.w3.org/2000/svg\" height=\"24px\" viewBox=\"0 -960 960 960\">\n",
              "    <path d=\"M120-120v-720h720v720H120Zm60-500h600v-160H180v160Zm220 220h160v-160H400v160Zm0 220h160v-160H400v160ZM180-400h160v-160H180v160Zm440 0h160v-160H620v160ZM180-180h160v-160H180v160Zm440 0h160v-160H620v160Z\"/>\n",
              "  </svg>\n",
              "    </button>\n",
              "\n",
              "  <style>\n",
              "    .colab-df-container {\n",
              "      display:flex;\n",
              "      gap: 12px;\n",
              "    }\n",
              "\n",
              "    .colab-df-convert {\n",
              "      background-color: #E8F0FE;\n",
              "      border: none;\n",
              "      border-radius: 50%;\n",
              "      cursor: pointer;\n",
              "      display: none;\n",
              "      fill: #1967D2;\n",
              "      height: 32px;\n",
              "      padding: 0 0 0 0;\n",
              "      width: 32px;\n",
              "    }\n",
              "\n",
              "    .colab-df-convert:hover {\n",
              "      background-color: #E2EBFA;\n",
              "      box-shadow: 0px 1px 2px rgba(60, 64, 67, 0.3), 0px 1px 3px 1px rgba(60, 64, 67, 0.15);\n",
              "      fill: #174EA6;\n",
              "    }\n",
              "\n",
              "    .colab-df-buttons div {\n",
              "      margin-bottom: 4px;\n",
              "    }\n",
              "\n",
              "    [theme=dark] .colab-df-convert {\n",
              "      background-color: #3B4455;\n",
              "      fill: #D2E3FC;\n",
              "    }\n",
              "\n",
              "    [theme=dark] .colab-df-convert:hover {\n",
              "      background-color: #434B5C;\n",
              "      box-shadow: 0px 1px 3px 1px rgba(0, 0, 0, 0.15);\n",
              "      filter: drop-shadow(0px 1px 2px rgba(0, 0, 0, 0.3));\n",
              "      fill: #FFFFFF;\n",
              "    }\n",
              "  </style>\n",
              "\n",
              "    <script>\n",
              "      const buttonEl =\n",
              "        document.querySelector('#df-1c4e2f74-e53d-47bd-b9db-3fb6254b901b button.colab-df-convert');\n",
              "      buttonEl.style.display =\n",
              "        google.colab.kernel.accessAllowed ? 'block' : 'none';\n",
              "\n",
              "      async function convertToInteractive(key) {\n",
              "        const element = document.querySelector('#df-1c4e2f74-e53d-47bd-b9db-3fb6254b901b');\n",
              "        const dataTable =\n",
              "          await google.colab.kernel.invokeFunction('convertToInteractive',\n",
              "                                                    [key], {});\n",
              "        if (!dataTable) return;\n",
              "\n",
              "        const docLinkHtml = 'Like what you see? Visit the ' +\n",
              "          '<a target=\"_blank\" href=https://colab.research.google.com/notebooks/data_table.ipynb>data table notebook</a>'\n",
              "          + ' to learn more about interactive tables.';\n",
              "        element.innerHTML = '';\n",
              "        dataTable['output_type'] = 'display_data';\n",
              "        await google.colab.output.renderOutput(dataTable, element);\n",
              "        const docLink = document.createElement('div');\n",
              "        docLink.innerHTML = docLinkHtml;\n",
              "        element.appendChild(docLink);\n",
              "      }\n",
              "    </script>\n",
              "  </div>\n",
              "\n",
              "\n",
              "<div id=\"df-bd9ed2be-a638-4fff-b61f-6be3b2bf0685\">\n",
              "  <button class=\"colab-df-quickchart\" onclick=\"quickchart('df-bd9ed2be-a638-4fff-b61f-6be3b2bf0685')\"\n",
              "            title=\"Suggest charts\"\n",
              "            style=\"display:none;\">\n",
              "\n",
              "<svg xmlns=\"http://www.w3.org/2000/svg\" height=\"24px\"viewBox=\"0 0 24 24\"\n",
              "     width=\"24px\">\n",
              "    <g>\n",
              "        <path d=\"M19 3H5c-1.1 0-2 .9-2 2v14c0 1.1.9 2 2 2h14c1.1 0 2-.9 2-2V5c0-1.1-.9-2-2-2zM9 17H7v-7h2v7zm4 0h-2V7h2v10zm4 0h-2v-4h2v4z\"/>\n",
              "    </g>\n",
              "</svg>\n",
              "  </button>\n",
              "\n",
              "<style>\n",
              "  .colab-df-quickchart {\n",
              "      --bg-color: #E8F0FE;\n",
              "      --fill-color: #1967D2;\n",
              "      --hover-bg-color: #E2EBFA;\n",
              "      --hover-fill-color: #174EA6;\n",
              "      --disabled-fill-color: #AAA;\n",
              "      --disabled-bg-color: #DDD;\n",
              "  }\n",
              "\n",
              "  [theme=dark] .colab-df-quickchart {\n",
              "      --bg-color: #3B4455;\n",
              "      --fill-color: #D2E3FC;\n",
              "      --hover-bg-color: #434B5C;\n",
              "      --hover-fill-color: #FFFFFF;\n",
              "      --disabled-bg-color: #3B4455;\n",
              "      --disabled-fill-color: #666;\n",
              "  }\n",
              "\n",
              "  .colab-df-quickchart {\n",
              "    background-color: var(--bg-color);\n",
              "    border: none;\n",
              "    border-radius: 50%;\n",
              "    cursor: pointer;\n",
              "    display: none;\n",
              "    fill: var(--fill-color);\n",
              "    height: 32px;\n",
              "    padding: 0;\n",
              "    width: 32px;\n",
              "  }\n",
              "\n",
              "  .colab-df-quickchart:hover {\n",
              "    background-color: var(--hover-bg-color);\n",
              "    box-shadow: 0 1px 2px rgba(60, 64, 67, 0.3), 0 1px 3px 1px rgba(60, 64, 67, 0.15);\n",
              "    fill: var(--button-hover-fill-color);\n",
              "  }\n",
              "\n",
              "  .colab-df-quickchart-complete:disabled,\n",
              "  .colab-df-quickchart-complete:disabled:hover {\n",
              "    background-color: var(--disabled-bg-color);\n",
              "    fill: var(--disabled-fill-color);\n",
              "    box-shadow: none;\n",
              "  }\n",
              "\n",
              "  .colab-df-spinner {\n",
              "    border: 2px solid var(--fill-color);\n",
              "    border-color: transparent;\n",
              "    border-bottom-color: var(--fill-color);\n",
              "    animation:\n",
              "      spin 1s steps(1) infinite;\n",
              "  }\n",
              "\n",
              "  @keyframes spin {\n",
              "    0% {\n",
              "      border-color: transparent;\n",
              "      border-bottom-color: var(--fill-color);\n",
              "      border-left-color: var(--fill-color);\n",
              "    }\n",
              "    20% {\n",
              "      border-color: transparent;\n",
              "      border-left-color: var(--fill-color);\n",
              "      border-top-color: var(--fill-color);\n",
              "    }\n",
              "    30% {\n",
              "      border-color: transparent;\n",
              "      border-left-color: var(--fill-color);\n",
              "      border-top-color: var(--fill-color);\n",
              "      border-right-color: var(--fill-color);\n",
              "    }\n",
              "    40% {\n",
              "      border-color: transparent;\n",
              "      border-right-color: var(--fill-color);\n",
              "      border-top-color: var(--fill-color);\n",
              "    }\n",
              "    60% {\n",
              "      border-color: transparent;\n",
              "      border-right-color: var(--fill-color);\n",
              "    }\n",
              "    80% {\n",
              "      border-color: transparent;\n",
              "      border-right-color: var(--fill-color);\n",
              "      border-bottom-color: var(--fill-color);\n",
              "    }\n",
              "    90% {\n",
              "      border-color: transparent;\n",
              "      border-bottom-color: var(--fill-color);\n",
              "    }\n",
              "  }\n",
              "</style>\n",
              "\n",
              "  <script>\n",
              "    async function quickchart(key) {\n",
              "      const quickchartButtonEl =\n",
              "        document.querySelector('#' + key + ' button');\n",
              "      quickchartButtonEl.disabled = true;  // To prevent multiple clicks.\n",
              "      quickchartButtonEl.classList.add('colab-df-spinner');\n",
              "      try {\n",
              "        const charts = await google.colab.kernel.invokeFunction(\n",
              "            'suggestCharts', [key], {});\n",
              "      } catch (error) {\n",
              "        console.error('Error during call to suggestCharts:', error);\n",
              "      }\n",
              "      quickchartButtonEl.classList.remove('colab-df-spinner');\n",
              "      quickchartButtonEl.classList.add('colab-df-quickchart-complete');\n",
              "    }\n",
              "    (() => {\n",
              "      let quickchartButtonEl =\n",
              "        document.querySelector('#df-bd9ed2be-a638-4fff-b61f-6be3b2bf0685 button');\n",
              "      quickchartButtonEl.style.display =\n",
              "        google.colab.kernel.accessAllowed ? 'block' : 'none';\n",
              "    })();\n",
              "  </script>\n",
              "</div>\n",
              "\n",
              "    </div>\n",
              "  </div>\n"
            ],
            "application/vnd.google.colaboratory.intrinsic+json": {
              "type": "dataframe",
              "variable_name": "df",
              "summary": "{\n  \"name\": \"df\",\n  \"rows\": 286,\n  \"fields\": [\n    {\n      \"column\": \"Class\",\n      \"properties\": {\n        \"dtype\": \"category\",\n        \"num_unique_values\": 2,\n        \"samples\": [\n          \"recurrence-events\",\n          \"no-recurrence-events\"\n        ],\n        \"semantic_type\": \"\",\n        \"description\": \"\"\n      }\n    },\n    {\n      \"column\": \"age\",\n      \"properties\": {\n        \"dtype\": \"category\",\n        \"num_unique_values\": 6,\n        \"samples\": [\n          \"30-39\",\n          \"40-49\"\n        ],\n        \"semantic_type\": \"\",\n        \"description\": \"\"\n      }\n    },\n    {\n      \"column\": \"menopause\",\n      \"properties\": {\n        \"dtype\": \"category\",\n        \"num_unique_values\": 3,\n        \"samples\": [\n          \"premeno\",\n          \"ge40\"\n        ],\n        \"semantic_type\": \"\",\n        \"description\": \"\"\n      }\n    },\n    {\n      \"column\": \"tumor-size\",\n      \"properties\": {\n        \"dtype\": \"category\",\n        \"num_unique_values\": 11,\n        \"samples\": [\n          \"50-54\",\n          \"30-34\"\n        ],\n        \"semantic_type\": \"\",\n        \"description\": \"\"\n      }\n    },\n    {\n      \"column\": \"inv-nodes\",\n      \"properties\": {\n        \"dtype\": \"category\",\n        \"num_unique_values\": 7,\n        \"samples\": [\n          \"0-2\",\n          \"6-8\"\n        ],\n        \"semantic_type\": \"\",\n        \"description\": \"\"\n      }\n    },\n    {\n      \"column\": \"node-caps\",\n      \"properties\": {\n        \"dtype\": \"category\",\n        \"num_unique_values\": 3,\n        \"samples\": [\n          \"no\",\n          \"yes\"\n        ],\n        \"semantic_type\": \"\",\n        \"description\": \"\"\n      }\n    },\n    {\n      \"column\": \"deg-malig\",\n      \"properties\": {\n        \"dtype\": \"number\",\n        \"std\": 0,\n        \"min\": 1,\n        \"max\": 3,\n        \"num_unique_values\": 3,\n        \"samples\": [\n          3,\n          2\n        ],\n        \"semantic_type\": \"\",\n        \"description\": \"\"\n      }\n    },\n    {\n      \"column\": \"breast\",\n      \"properties\": {\n        \"dtype\": \"category\",\n        \"num_unique_values\": 2,\n        \"samples\": [\n          \"right\",\n          \"left\"\n        ],\n        \"semantic_type\": \"\",\n        \"description\": \"\"\n      }\n    },\n    {\n      \"column\": \"breast-quad\",\n      \"properties\": {\n        \"dtype\": \"category\",\n        \"num_unique_values\": 6,\n        \"samples\": [\n          \"left_low\",\n          \"right_up\"\n        ],\n        \"semantic_type\": \"\",\n        \"description\": \"\"\n      }\n    },\n    {\n      \"column\": \"irradiat\",\n      \"properties\": {\n        \"dtype\": \"category\",\n        \"num_unique_values\": 2,\n        \"samples\": [\n          \"yes\",\n          \"no\"\n        ],\n        \"semantic_type\": \"\",\n        \"description\": \"\"\n      }\n    }\n  ]\n}"
            }
          },
          "metadata": {},
          "execution_count": 75
        }
      ]
    },
    {
      "cell_type": "code",
      "source": [
        "print(sorted(df['age'].unique()))\n",
        "print(df.age.value_counts())"
      ],
      "metadata": {
        "colab": {
          "base_uri": "https://localhost:8080/"
        },
        "id": "MNHjqPWwVBmu",
        "outputId": "81df95d8-2665-406f-a074-5d17d1cbde84"
      },
      "execution_count": 76,
      "outputs": [
        {
          "output_type": "stream",
          "name": "stdout",
          "text": [
            "['20-29', '30-39', '40-49', '50-59', '60-69', '70-79']\n",
            "age\n",
            "50-59    96\n",
            "40-49    90\n",
            "60-69    57\n",
            "30-39    36\n",
            "70-79     6\n",
            "20-29     1\n",
            "Name: count, dtype: int64\n"
          ]
        }
      ]
    },
    {
      "cell_type": "markdown",
      "source": [
        "As you can see, the data values are categorical rather than real numerical values.\n",
        "\n",
        "To obtain the average jaccard distance between two dataframes (df1, df2), we first need to convert the categorical variables into one-hot encoded (binary) variables. This allows us to easily compute the individual jaccard distance between each row in df1 and other row in df2, since we could just view the rows as sets that contain 0's and 1's.\n",
        "\n",
        "We can achieve this using the OneHotEncoder from sklearn.preprocessing:"
      ],
      "metadata": {
        "id": "ra6GEaI0VFKe"
      }
    },
    {
      "cell_type": "code",
      "source": [
        "from sklearn.preprocessing import OneHotEncoder\n",
        "\n",
        "OH = OneHotEncoder()"
      ],
      "metadata": {
        "id": "cMu9SeRxVHQP"
      },
      "execution_count": 77,
      "outputs": []
    },
    {
      "cell_type": "code",
      "source": [
        "X = OH.fit_transform(df.loc[:, df.columns != 'age']).toarray()\n",
        "print(f\"By using onehot encoding, we obtained a 2d array with shape {X.shape} that only has value 0 and 1 \")"
      ],
      "metadata": {
        "colab": {
          "base_uri": "https://localhost:8080/"
        },
        "id": "KzYVu9UAVIvG",
        "outputId": "4c561c45-5623-4166-aaca-8a23c520ff55"
      },
      "execution_count": 78,
      "outputs": [
        {
          "output_type": "stream",
          "name": "stdout",
          "text": [
            "By using onehot encoding, we obtained a 2d array with shape (286, 39) that only has value 0 and 1 \n"
          ]
        }
      ]
    },
    {
      "cell_type": "code",
      "source": [
        "X30to39 = X[df[df.age == '30-39'].index]\n",
        "X60to69 = X[df[df.age == '60-69'].index]\n",
        "\n",
        "X30to39.shape, X60to69.shape"
      ],
      "metadata": {
        "colab": {
          "base_uri": "https://localhost:8080/"
        },
        "id": "1XokXXMvVMvu",
        "outputId": "a3724d22-42b4-44b0-bc18-d6e49ef9251d"
      },
      "execution_count": 79,
      "outputs": [
        {
          "output_type": "execute_result",
          "data": {
            "text/plain": [
              "((36, 39), (57, 39))"
            ]
          },
          "metadata": {},
          "execution_count": 79
        }
      ]
    },
    {
      "cell_type": "code",
      "source": [
        "avg_distance(X30to39, X30to39, jaccard_score)"
      ],
      "metadata": {
        "colab": {
          "base_uri": "https://localhost:8080/"
        },
        "id": "rCJccapzZph-",
        "outputId": "8909afa9-fb29-41a5-adbd-70c65804e3b4"
      },
      "execution_count": 84,
      "outputs": [
        {
          "output_type": "execute_result",
          "data": {
            "text/plain": [
              "0.6435631883548536"
            ]
          },
          "metadata": {},
          "execution_count": 84
        }
      ]
    },
    {
      "cell_type": "code",
      "source": [
        "avg_distance(X60to69, X60to69, jaccard_score)"
      ],
      "metadata": {
        "colab": {
          "base_uri": "https://localhost:8080/"
        },
        "id": "2WpK-6zqZtYd",
        "outputId": "8a67d534-ba4f-4388-97f9-b2be1dd079ed"
      },
      "execution_count": 85,
      "outputs": [
        {
          "output_type": "execute_result",
          "data": {
            "text/plain": [
              "0.6182114564956281"
            ]
          },
          "metadata": {},
          "execution_count": 85
        }
      ]
    },
    {
      "cell_type": "code",
      "source": [
        "avg_distance(X30to39, X60to69, jaccard_score)"
      ],
      "metadata": {
        "colab": {
          "base_uri": "https://localhost:8080/"
        },
        "id": "qIeMimfDZwtt",
        "outputId": "3b2b63e7-2585-4fe0-ffb5-f5e230ae350b"
      },
      "execution_count": 86,
      "outputs": [
        {
          "output_type": "execute_result",
          "data": {
            "text/plain": [
              "0.7324778699972173"
            ]
          },
          "metadata": {},
          "execution_count": 86
        }
      ]
    },
    {
      "cell_type": "markdown",
      "source": [
        "Therefore, it seems there are some disparate trends between the 30-39 and 60-69 age groups"
      ],
      "metadata": {
        "id": "z2eM-R3cZ0b-"
      }
    },
    {
      "cell_type": "markdown",
      "source": [
        "EXERCISE 1"
      ],
      "metadata": {
        "id": "_lgVsU2kZ4JG"
      }
    },
    {
      "cell_type": "code",
      "source": [
        "# Find the jaccard distance between the words in the following two sentences:\n",
        "sentence1 = 'Hello everyone and welcome to distance metrics'\n",
        "sentence2 = 'Hello world and welcome to distance metrics'"
      ],
      "metadata": {
        "id": "Feq_UkAEZ5x-"
      },
      "execution_count": 87,
      "outputs": []
    },
    {
      "cell_type": "code",
      "source": [
        "s1set = set(sentence1.split())\n",
        "s2set = set(sentence2.split())\n",
        "ans = len(s1set.intersection(s2set)) / len(s1set.union(s2set))"
      ],
      "metadata": {
        "id": "1WLR4619Z9Fd"
      },
      "execution_count": 88,
      "outputs": []
    },
    {
      "cell_type": "markdown",
      "source": [
        "Exercise 2 - Euclidean distance and manhattan distance"
      ],
      "metadata": {
        "id": "4qS1NsgtaDfR"
      }
    },
    {
      "cell_type": "code",
      "source": [
        "# Find the absolute value of the difference between the euclidean and manhattan distances of the two 3D points:\n",
        "p1 = np.array([4, -3, 1])\n",
        "p2 = np.array([-5, 1, -7])"
      ],
      "metadata": {
        "id": "z-seeXsVaAoO"
      },
      "execution_count": 89,
      "outputs": []
    },
    {
      "cell_type": "code",
      "source": [
        "import scipy.special\n",
        "euclidean = scipy.spatial.distance.euclidean(p1, p2)\n",
        "manhattan = scipy.spatial.distance.cityblock(p1, p2)\n",
        "ans = abs(manhattan - euclidean)"
      ],
      "metadata": {
        "id": "nSo_wHduaE8J"
      },
      "execution_count": 90,
      "outputs": []
    },
    {
      "cell_type": "markdown",
      "source": [
        "Exercise 3 - Cosine distance"
      ],
      "metadata": {
        "id": "lYFlh7eaaOUa"
      }
    },
    {
      "cell_type": "code",
      "source": [
        "# Find the cosine distance between the following two points:\n",
        "p1 = np.array([1, 2, 3]).reshape(1, -1)\n",
        "p2 = np.array([-2, -4, -6]).reshape(1, -1)"
      ],
      "metadata": {
        "id": "0RrZn-TEaLDN"
      },
      "execution_count": 91,
      "outputs": []
    },
    {
      "cell_type": "code",
      "source": [
        "ans = cosine_distances(p1, p2)"
      ],
      "metadata": {
        "id": "uzC4xOdLaSPq"
      },
      "execution_count": 92,
      "outputs": []
    },
    {
      "cell_type": "markdown",
      "source": [
        "Exercise 4 - Using sklearn.metrics.pairwise\n",
        "\n",
        "\n",
        "\n",
        "\n",
        "\n",
        "\n",
        "Use:\n",
        "\n",
        "sklearn.metrics.pairwise.paired_euclidean_distances\n",
        "sklearn.metrics.pairwise.paired_manhattan_distances\n",
        "to find the pairwise distance between the following two datasets:"
      ],
      "metadata": {
        "id": "SNLmUyVjaV1p"
      }
    },
    {
      "cell_type": "code",
      "source": [
        "X1 = np.arange(8).reshape(4, 2)\n",
        "X2 = np.arange(8)[::-1].reshape(4, 2)\n",
        "print(f'X1:\\n{X1}')\n",
        "print(f'X2:\\n{X2}')"
      ],
      "metadata": {
        "colab": {
          "base_uri": "https://localhost:8080/"
        },
        "id": "EtQQcxxoaYBe",
        "outputId": "9ae15349-4068-4bbf-c6c2-c3fa55b2f706"
      },
      "execution_count": 93,
      "outputs": [
        {
          "output_type": "stream",
          "name": "stdout",
          "text": [
            "X1:\n",
            "[[0 1]\n",
            " [2 3]\n",
            " [4 5]\n",
            " [6 7]]\n",
            "X2:\n",
            "[[7 6]\n",
            " [5 4]\n",
            " [3 2]\n",
            " [1 0]]\n"
          ]
        }
      ]
    },
    {
      "cell_type": "code",
      "source": [
        "paired_euclidean = sklearn.metrics.pairwise.paired_euclidean_distances(X1, X2)\n",
        "paired_manhattan = sklearn.metrics.pairwise.paired_manhattan_distances(X1, X2)"
      ],
      "metadata": {
        "id": "gpxPZjrGad2l"
      },
      "execution_count": 94,
      "outputs": []
    }
  ]
}