{
 "cells": [
  {
   "cell_type": "markdown",
   "id": "2f4a7610-bc1b-436a-94a5-d6e7269408f0",
   "metadata": {},
   "source": [
    "Data Science Tools and Ecosystem"
   ]
  },
  {
   "cell_type": "markdown",
   "id": "f0c7d7d3-25df-44f0-8f90-0e16da8d43ed",
   "metadata": {},
   "source": [
    "In this notebook, Data Science Tools and Ecosystem are summarized"
   ]
  },
  {
   "cell_type": "markdown",
   "id": "fcab25a1-ee8a-4e3e-81f5-bf05b684f27b",
   "metadata": {},
   "source": [
    "#Some of the popular languages that Data Scientists use are:\n",
    "\n",
    "1. Python\n",
    "2. R\n",
    "3. SQL\n",
    "4. Scala\n"
   ]
  },
  {
   "cell_type": "markdown",
   "id": "2de2c84e-851a-49bc-beaf-e9bd1d22cf8c",
   "metadata": {},
   "source": [
    "#Some of the commonly used libraries used by Data Scientists include:\n",
    "\n",
    "1. Pandas\n",
    "2. Numpy\n",
    "3. Matplotlib\n",
    "4. Seaborn\n"
   ]
  },
  {
   "cell_type": "markdown",
   "id": "5d4d82e2-5cf0-4395-b1db-c65bbf32c223",
   "metadata": {},
   "source": [
    "| Data Science Tools |\n",
    "|--------------------|\n",
    "| Jupyter Notebook   |\n",
    "| RStudio            |\n",
    "| Apache Zeppelin    |\n"
   ]
  },
  {
   "cell_type": "code",
   "execution_count": null,
   "id": "338edf0a-4371-43fc-8019-a65886c34cc1",
   "metadata": {},
   "outputs": [],
   "source": [
    "### Below are a few examples of evaluating arithmetic expressions in Python"
   ]
  },
  {
   "cell_type": "code",
   "execution_count": 43,
   "id": "f5006a1a-68f3-427d-b6ca-2328bd47c491",
   "metadata": {},
   "outputs": [
    {
     "data": {
      "text/plain": [
       "(50, 15)"
      ]
     },
     "execution_count": 43,
     "metadata": {},
     "output_type": "execute_result"
    }
   ],
   "source": [
    "# Multiplying and adding integers\n",
    "num1 = 5\n",
    "num2 = 10\n",
    "product = num1 * num2\n",
    "sum_result = num1 + num2\n",
    "\n",
    "product, sum_result\n"
   ]
  },
  {
   "cell_type": "code",
   "execution_count": 45,
   "id": "46d61815-8183-4884-9c70-cd8044ccfc5c",
   "metadata": {},
   "outputs": [
    {
     "data": {
      "text/plain": [
       "2.0"
      ]
     },
     "execution_count": 45,
     "metadata": {},
     "output_type": "execute_result"
    }
   ],
   "source": [
    "# Converting minutes to hours\n",
    "minutes = 120\n",
    "hours = minutes / 60\n",
    "\n",
    "hours\n"
   ]
  },
  {
   "cell_type": "markdown",
   "id": "2aa31610-0add-418e-bb64-364461ee3b0a",
   "metadata": {},
   "source": [
    "**Objectives**:\n"
   ]
  },
  {
   "cell_type": "markdown",
   "id": "011e19ae-f0e4-4ccf-b69c-fcf4b6c7e27d",
   "metadata": {},
   "source": [
    "- Learn how to work with different data science tools.\n",
    "- Explore various data science libraries.\n",
    "- Practice arithmetic expressions in Python.\n",
    "- Understand how to work with Python code cells.\n"
   ]
  },
  {
   "cell_type": "markdown",
   "id": "b2eba9ff-d6bd-4663-8f08-71abcb47dcc1",
   "metadata": {},
   "source": [
    "## Author\n",
    "Mayar Saad\n"
   ]
  },
  {
   "cell_type": "code",
   "execution_count": null,
   "id": "57137070-4f36-474a-805a-5508b0676526",
   "metadata": {},
   "outputs": [],
   "source": []
  }
 ],
 "metadata": {
  "kernelspec": {
   "display_name": "Python [conda env:base] *",
   "language": "python",
   "name": "conda-base-py"
  },
  "language_info": {
   "codemirror_mode": {
    "name": "ipython",
    "version": 3
   },
   "file_extension": ".py",
   "mimetype": "text/x-python",
   "name": "python",
   "nbconvert_exporter": "python",
   "pygments_lexer": "ipython3",
   "version": "3.12.7"
  }
 },
 "nbformat": 4,
 "nbformat_minor": 5
}
